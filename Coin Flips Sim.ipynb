{
 "cells": [
  {
   "cell_type": "code",
   "execution_count": 1,
   "metadata": {
    "collapsed": true
   },
   "outputs": [],
   "source": [
    "# simulation of coin flips\n",
    "# who gets to 10 flips first the majority of the time? \n",
    "# the person to flip first, or second?\n",
    "\n",
    "# code from: https://stats.stackexchange.com/questions/257317/how-can-i-model-flips-until-n-successes?newsletter=1&nlcode=537479%7c05a1\n",
    "\n",
    "\n",
    "import numpy as np\n",
    "from numba import jit\n",
    "\n",
    "\n",
    "@jit\n",
    "def sim(N):\n",
    "\n",
    "    P1_wins = 0\n",
    "    P2_wins = 0\n",
    "\n",
    "    for i in range(N):\n",
    "\n",
    "        P1_heads = 0\n",
    "        P2_heads = 0\n",
    "        while True:\n",
    "\n",
    "            P1_heads += np.random.randint(0,2)\n",
    "\n",
    "            if P1_heads == 10:\n",
    "                P1_wins+=1\n",
    "                break\n",
    "\n",
    "            P2_heads+= np.random.randint(0,2)\n",
    "            if P2_heads==10:\n",
    "                P2_wins+=1\n",
    "                break\n",
    "    return P1_wins/N, P2_wins/N"
   ]
  },
  {
   "cell_type": "code",
   "execution_count": 3,
   "metadata": {
    "collapsed": false
   },
   "outputs": [
    {
     "data": {
      "text/plain": [
       "(0.532886, 0.467114)"
      ]
     },
     "execution_count": 3,
     "metadata": {},
     "output_type": "execute_result"
    }
   ],
   "source": [
    "x,y=sim(1e6)\n",
    "x,y"
   ]
  }
 ],
 "metadata": {
  "kernelspec": {
   "display_name": "Python [conda root]",
   "language": "python",
   "name": "conda-root-py"
  },
  "language_info": {
   "codemirror_mode": {
    "name": "ipython",
    "version": 3
   },
   "file_extension": ".py",
   "mimetype": "text/x-python",
   "name": "python",
   "nbconvert_exporter": "python",
   "pygments_lexer": "ipython3",
   "version": "3.5.2"
  }
 },
 "nbformat": 4,
 "nbformat_minor": 1
}
