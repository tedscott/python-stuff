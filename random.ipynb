{
 "cells": [
  {
   "cell_type": "code",
   "execution_count": 14,
   "metadata": {
    "collapsed": false
   },
   "outputs": [
    {
     "name": "stdout",
     "output_type": "stream",
     "text": [
      "b'{\"Results\":{\"output1\":{\"type\":\"table\",\"value\":{\"ColumnNames\":[\"Scored Label Mean\",\"Scored Label Standard Deviation\"],\"ColumnTypes\":[\"Double\",\"Double\"],\"Values\":[[\"15.55\",\"0.000182574154470152\"],[\"15.55\",\"0.000182574154470152\"]]}}},\"ContainerAllocationDurationMs\":2524,\"ExecutionDurationMs\":16726,\"IsWarmContainer\":false}'\n"
     ]
    }
   ],
   "source": [
    "import urllib.request\n",
    "# If you are using Python 3+, import urllib instead of urllib2\n",
    "\n",
    "import json \n",
    "\n",
    "\n",
    "data =  {\n",
    "\n",
    "        \"Inputs\": {\n",
    "\n",
    "                \"input1\":\n",
    "                {\n",
    "                    \"ColumnNames\": [\"Relative Compactness\", \"Surface Area\", \"Wall Area\", \"Roof Area\", \"Overall Height\", \"Orientation\", \"Glazing Area\", \"Glazing Area Distribution\", \"Heating Load\", \"Cooling Load\"],\n",
    "                    \"Values\": [ [ \"0\", \"0\", \"0\", \"0\", \"0\", \"0\", \"0\", \"0\", \"0\", \"0\" ], [ \"0\", \"0\", \"0\", \"0\", \"0\", \"0\", \"0\", \"0\", \"0\", \"0\" ], ]\n",
    "                },        },\n",
    "            \"GlobalParameters\": {\n",
    "            }\n",
    "    }\n",
    "\n",
    "body = str.encode(json.dumps(data))\n",
    "\n",
    "url = 'https://ussouthcentral.services.azureml.net/workspaces/23b9610d5eaf4025811841f4755a738c/services/203ac6065f3b4023a5294359d7133836/execute?api-version=2.0&details=true'\n",
    "api_key = '3oKiDkf7zjOeHJJDmEgApIi6B9gb9uEC14Qs4lRLEzhDrj25y2Hb2Oeu6TIFZWwN09d0qwhMi3cxwws2RSx37w==' # Replace this with the API key for the web service\n",
    "headers = {'Content-Type':'application/json', 'Authorization':('Bearer '+ api_key)}\n",
    "\n",
    "req = urllib.request.Request(url, body, headers) \n",
    "\n",
    "try:\n",
    "    response = urllib.request.urlopen(req)\n",
    "\n",
    "    # If you are using Python 3+, replace urllib2 with urllib.request in the above code:\n",
    "    # req = urllib.request.Request(url, body, headers) \n",
    "    # response = urllib.request.urlopen(req)\n",
    "\n",
    "    result = response.read()\n",
    "    print(result) \n",
    "except urllib.error.HTTPError as err:\n",
    "    print(\"The request failed with status code: \" + str(err.code))\n",
    "\n",
    "    # Print the headers - they include the requert ID and the timestamp, which are useful for debugging the failure\n",
    "    print(err.info())\n",
    "\n",
    "    print(json.loads(err.read()))           "
   ]
  },
  {
   "cell_type": "code",
   "execution_count": null,
   "metadata": {
    "collapsed": true
   },
   "outputs": [],
   "source": []
  },
  {
   "cell_type": "code",
   "execution_count": null,
   "metadata": {
    "collapsed": true
   },
   "outputs": [],
   "source": []
  }
 ],
 "metadata": {
  "kernelspec": {
   "display_name": "Python 3",
   "language": "python",
   "name": "python3"
  },
  "language_info": {
   "codemirror_mode": {
    "name": "ipython",
    "version": 3
   },
   "file_extension": ".py",
   "mimetype": "text/x-python",
   "name": "python",
   "nbconvert_exporter": "python",
   "pygments_lexer": "ipython3",
   "version": "3.4.3"
  }
 },
 "nbformat": 4,
 "nbformat_minor": 0
}
