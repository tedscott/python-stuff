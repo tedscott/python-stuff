{
 "cells": [
  {
   "cell_type": "code",
   "execution_count": 2,
   "metadata": {
    "collapsed": true
   },
   "outputs": [],
   "source": [
    "# tedscott\n",
    "# 11.8.2016\n",
    "# try using the derviatives of the command usage week-over-week data\n",
    "# from the Device Table to predict retention\n",
    "\n",
    "import matplotlib\n",
    "import pandas as pd\n",
    "import os.path\n",
    "import numpy as np\n",
    "import time\n",
    "import subprocess\n",
    "\n",
    "from scipy import stats\n",
    "\n",
    "from sklearn.linear_model import LogisticRegression\n",
    "from sklearn import cross_validation\n",
    "from sklearn.ensemble import ExtraTreesClassifier\n",
    "from sklearn.ensemble import RandomForestClassifier\n",
    "from sklearn.metrics import roc_auc_score\n",
    "from sklearn.metrics import roc_curve, auc\n",
    "import matplotlib.pyplot as plt\n",
    "import matplotlib.patches as mpatches\n",
    "%matplotlib inline\n"
   ]
  },
  {
   "cell_type": "code",
   "execution_count": 3,
   "metadata": {
    "collapsed": true
   },
   "outputs": [],
   "source": [
    "pathName=\"E:/python-stuff/data/\"\n",
    "# 500000 sample\n",
    "fileName = \"DerivativeRetention500000.csv\"\n",
    "\n",
    "# full data set (39M devices, 5 GB csv)\n",
    "#fileName = \"DerivativeRetentionFull.csv\"\n",
    "filePath = os.path.join(pathName, fileName)\n",
    "\n",
    "# load the DF\n",
    "derivDF = pd.read_csv(filePath)"
   ]
  },
  {
   "cell_type": "code",
   "execution_count": 4,
   "metadata": {
    "collapsed": false,
    "scrolled": true
   },
   "outputs": [
    {
     "data": {
      "text/html": [
       "<div>\n",
       "<table border=\"1\" class=\"dataframe\">\n",
       "  <thead>\n",
       "    <tr style=\"text-align: right;\">\n",
       "      <th></th>\n",
       "      <th>SqmUserId</th>\n",
       "      <th>SnapshotTime</th>\n",
       "      <th>dDistCmdsWk0Wk1</th>\n",
       "      <th>dDistCmdsWk1Wk2</th>\n",
       "      <th>dDistCmdsWk2Wk3</th>\n",
       "      <th>dTotCmdsWk0Wk1</th>\n",
       "      <th>dTotCmdsWk1Wk2</th>\n",
       "      <th>dTotCmdsWk2Wk3</th>\n",
       "      <th>AvgdDistCmds</th>\n",
       "      <th>AvgdTotCmds</th>\n",
       "      <th>RetainedExcel</th>\n",
       "    </tr>\n",
       "  </thead>\n",
       "  <tbody>\n",
       "    <tr>\n",
       "      <th>0</th>\n",
       "      <td>000608fd-a577-4097-915b-a53c7bffa913</td>\n",
       "      <td>8/28/2016 12:00:00 AM</td>\n",
       "      <td>1.75</td>\n",
       "      <td>-28.50</td>\n",
       "      <td>34.00</td>\n",
       "      <td>36.00</td>\n",
       "      <td>-251.50</td>\n",
       "      <td>283.00</td>\n",
       "      <td>2.42</td>\n",
       "      <td>22.50</td>\n",
       "      <td>0</td>\n",
       "    </tr>\n",
       "    <tr>\n",
       "      <th>1</th>\n",
       "      <td>00271c75-00ad-4808-a32c-cfca6fc5f5a6</td>\n",
       "      <td>8/28/2016 12:00:00 AM</td>\n",
       "      <td>1.80</td>\n",
       "      <td>-1.30</td>\n",
       "      <td>0.50</td>\n",
       "      <td>-0.40</td>\n",
       "      <td>0.90</td>\n",
       "      <td>-2.50</td>\n",
       "      <td>0.33</td>\n",
       "      <td>-0.67</td>\n",
       "      <td>1</td>\n",
       "    </tr>\n",
       "    <tr>\n",
       "      <th>2</th>\n",
       "      <td>003c6076-5567-481f-815f-0c18cecff1e7</td>\n",
       "      <td>8/28/2016 12:00:00 AM</td>\n",
       "      <td>-2.65</td>\n",
       "      <td>3.80</td>\n",
       "      <td>-8.07</td>\n",
       "      <td>-31.65</td>\n",
       "      <td>-102.60</td>\n",
       "      <td>70.00</td>\n",
       "      <td>-2.31</td>\n",
       "      <td>-21.42</td>\n",
       "      <td>1</td>\n",
       "    </tr>\n",
       "    <tr>\n",
       "      <th>3</th>\n",
       "      <td>0058efa2-2252-46c5-a0be-58886623b4dd</td>\n",
       "      <td>8/28/2016 12:00:00 AM</td>\n",
       "      <td>12.33</td>\n",
       "      <td>-0.33</td>\n",
       "      <td>-9.67</td>\n",
       "      <td>109.00</td>\n",
       "      <td>-2.67</td>\n",
       "      <td>-74.83</td>\n",
       "      <td>0.78</td>\n",
       "      <td>10.50</td>\n",
       "      <td>1</td>\n",
       "    </tr>\n",
       "    <tr>\n",
       "      <th>4</th>\n",
       "      <td>00145c88-acb1-4cc2-8d23-e512a3410f2a</td>\n",
       "      <td>8/28/2016 12:00:00 AM</td>\n",
       "      <td>9.50</td>\n",
       "      <td>0.00</td>\n",
       "      <td>0.00</td>\n",
       "      <td>22.00</td>\n",
       "      <td>0.00</td>\n",
       "      <td>0.00</td>\n",
       "      <td>3.17</td>\n",
       "      <td>7.33</td>\n",
       "      <td>0</td>\n",
       "    </tr>\n",
       "  </tbody>\n",
       "</table>\n",
       "</div>"
      ],
      "text/plain": [
       "                              SqmUserId           SnapshotTime  \\\n",
       "0  000608fd-a577-4097-915b-a53c7bffa913  8/28/2016 12:00:00 AM   \n",
       "1  00271c75-00ad-4808-a32c-cfca6fc5f5a6  8/28/2016 12:00:00 AM   \n",
       "2  003c6076-5567-481f-815f-0c18cecff1e7  8/28/2016 12:00:00 AM   \n",
       "3  0058efa2-2252-46c5-a0be-58886623b4dd  8/28/2016 12:00:00 AM   \n",
       "4  00145c88-acb1-4cc2-8d23-e512a3410f2a  8/28/2016 12:00:00 AM   \n",
       "\n",
       "   dDistCmdsWk0Wk1  dDistCmdsWk1Wk2  dDistCmdsWk2Wk3  dTotCmdsWk0Wk1  \\\n",
       "0             1.75           -28.50            34.00           36.00   \n",
       "1             1.80            -1.30             0.50           -0.40   \n",
       "2            -2.65             3.80            -8.07          -31.65   \n",
       "3            12.33            -0.33            -9.67          109.00   \n",
       "4             9.50             0.00             0.00           22.00   \n",
       "\n",
       "   dTotCmdsWk1Wk2  dTotCmdsWk2Wk3  AvgdDistCmds  AvgdTotCmds  RetainedExcel  \n",
       "0         -251.50          283.00          2.42        22.50              0  \n",
       "1            0.90           -2.50          0.33        -0.67              1  \n",
       "2         -102.60           70.00         -2.31       -21.42              1  \n",
       "3           -2.67          -74.83          0.78        10.50              1  \n",
       "4            0.00            0.00          3.17         7.33              0  "
      ]
     },
     "execution_count": 4,
     "metadata": {},
     "output_type": "execute_result"
    }
   ],
   "source": [
    "derivDF.head()"
   ]
  },
  {
   "cell_type": "code",
   "execution_count": 5,
   "metadata": {
    "collapsed": false
   },
   "outputs": [
    {
     "data": {
      "text/html": [
       "<div>\n",
       "<table border=\"1\" class=\"dataframe\">\n",
       "  <thead>\n",
       "    <tr style=\"text-align: right;\">\n",
       "      <th></th>\n",
       "      <th>dDistCmdsWk0Wk1</th>\n",
       "      <th>dDistCmdsWk1Wk2</th>\n",
       "      <th>dDistCmdsWk2Wk3</th>\n",
       "      <th>dTotCmdsWk0Wk1</th>\n",
       "      <th>dTotCmdsWk1Wk2</th>\n",
       "      <th>dTotCmdsWk2Wk3</th>\n",
       "      <th>AvgdDistCmds</th>\n",
       "      <th>AvgdTotCmds</th>\n",
       "      <th>RetainedExcel</th>\n",
       "    </tr>\n",
       "  </thead>\n",
       "  <tbody>\n",
       "    <tr>\n",
       "      <th>count</th>\n",
       "      <td>500000.000000</td>\n",
       "      <td>500000.000000</td>\n",
       "      <td>500000.000000</td>\n",
       "      <td>500000.000000</td>\n",
       "      <td>500000.000000</td>\n",
       "      <td>500000.000000</td>\n",
       "      <td>500000.000000</td>\n",
       "      <td>500000.000000</td>\n",
       "      <td>500000.000000</td>\n",
       "    </tr>\n",
       "    <tr>\n",
       "      <th>mean</th>\n",
       "      <td>0.359940</td>\n",
       "      <td>0.108452</td>\n",
       "      <td>0.012564</td>\n",
       "      <td>2.601668</td>\n",
       "      <td>0.222253</td>\n",
       "      <td>-0.273755</td>\n",
       "      <td>0.160284</td>\n",
       "      <td>0.850032</td>\n",
       "      <td>0.696876</td>\n",
       "    </tr>\n",
       "    <tr>\n",
       "      <th>std</th>\n",
       "      <td>6.604646</td>\n",
       "      <td>6.329832</td>\n",
       "      <td>6.188103</td>\n",
       "      <td>73.932363</td>\n",
       "      <td>71.931518</td>\n",
       "      <td>64.085317</td>\n",
       "      <td>2.305068</td>\n",
       "      <td>24.501930</td>\n",
       "      <td>0.459609</td>\n",
       "    </tr>\n",
       "    <tr>\n",
       "      <th>min</th>\n",
       "      <td>-161.000000</td>\n",
       "      <td>-213.000000</td>\n",
       "      <td>-154.000000</td>\n",
       "      <td>-15562.670000</td>\n",
       "      <td>-7638.270000</td>\n",
       "      <td>-2102.000000</td>\n",
       "      <td>-51.330000</td>\n",
       "      <td>-1463.610000</td>\n",
       "      <td>0.000000</td>\n",
       "    </tr>\n",
       "    <tr>\n",
       "      <th>25%</th>\n",
       "      <td>-1.170000</td>\n",
       "      <td>-1.000000</td>\n",
       "      <td>-1.170000</td>\n",
       "      <td>-4.000000</td>\n",
       "      <td>-4.000000</td>\n",
       "      <td>-4.000000</td>\n",
       "      <td>-0.500000</td>\n",
       "      <td>-1.670000</td>\n",
       "      <td>0.000000</td>\n",
       "    </tr>\n",
       "    <tr>\n",
       "      <th>50%</th>\n",
       "      <td>0.000000</td>\n",
       "      <td>0.000000</td>\n",
       "      <td>0.000000</td>\n",
       "      <td>0.000000</td>\n",
       "      <td>0.000000</td>\n",
       "      <td>0.000000</td>\n",
       "      <td>0.000000</td>\n",
       "      <td>0.000000</td>\n",
       "      <td>1.000000</td>\n",
       "    </tr>\n",
       "    <tr>\n",
       "      <th>75%</th>\n",
       "      <td>2.000000</td>\n",
       "      <td>1.330000</td>\n",
       "      <td>1.000000</td>\n",
       "      <td>7.000000</td>\n",
       "      <td>4.000000</td>\n",
       "      <td>3.330000</td>\n",
       "      <td>0.730000</td>\n",
       "      <td>2.750000</td>\n",
       "      <td>1.000000</td>\n",
       "    </tr>\n",
       "    <tr>\n",
       "      <th>max</th>\n",
       "      <td>134.500000</td>\n",
       "      <td>161.000000</td>\n",
       "      <td>216.000000</td>\n",
       "      <td>10113.670000</td>\n",
       "      <td>15562.670000</td>\n",
       "      <td>6358.000000</td>\n",
       "      <td>44.670000</td>\n",
       "      <td>2216.830000</td>\n",
       "      <td>1.000000</td>\n",
       "    </tr>\n",
       "  </tbody>\n",
       "</table>\n",
       "</div>"
      ],
      "text/plain": [
       "       dDistCmdsWk0Wk1  dDistCmdsWk1Wk2  dDistCmdsWk2Wk3  dTotCmdsWk0Wk1  \\\n",
       "count    500000.000000    500000.000000    500000.000000   500000.000000   \n",
       "mean          0.359940         0.108452         0.012564        2.601668   \n",
       "std           6.604646         6.329832         6.188103       73.932363   \n",
       "min        -161.000000      -213.000000      -154.000000   -15562.670000   \n",
       "25%          -1.170000        -1.000000        -1.170000       -4.000000   \n",
       "50%           0.000000         0.000000         0.000000        0.000000   \n",
       "75%           2.000000         1.330000         1.000000        7.000000   \n",
       "max         134.500000       161.000000       216.000000    10113.670000   \n",
       "\n",
       "       dTotCmdsWk1Wk2  dTotCmdsWk2Wk3   AvgdDistCmds    AvgdTotCmds  \\\n",
       "count   500000.000000   500000.000000  500000.000000  500000.000000   \n",
       "mean         0.222253       -0.273755       0.160284       0.850032   \n",
       "std         71.931518       64.085317       2.305068      24.501930   \n",
       "min      -7638.270000    -2102.000000     -51.330000   -1463.610000   \n",
       "25%         -4.000000       -4.000000      -0.500000      -1.670000   \n",
       "50%          0.000000        0.000000       0.000000       0.000000   \n",
       "75%          4.000000        3.330000       0.730000       2.750000   \n",
       "max      15562.670000     6358.000000      44.670000    2216.830000   \n",
       "\n",
       "       RetainedExcel  \n",
       "count  500000.000000  \n",
       "mean        0.696876  \n",
       "std         0.459609  \n",
       "min         0.000000  \n",
       "25%         0.000000  \n",
       "50%         1.000000  \n",
       "75%         1.000000  \n",
       "max         1.000000  "
      ]
     },
     "execution_count": 5,
     "metadata": {},
     "output_type": "execute_result"
    }
   ],
   "source": [
    "derivDF.describe()"
   ]
  },
  {
   "cell_type": "code",
   "execution_count": 6,
   "metadata": {
    "collapsed": false
   },
   "outputs": [
    {
     "data": {
      "text/plain": [
       "500000"
      ]
     },
     "execution_count": 6,
     "metadata": {},
     "output_type": "execute_result"
    }
   ],
   "source": [
    "derivDF.SqmUserId.unique().size"
   ]
  },
  {
   "cell_type": "code",
   "execution_count": 7,
   "metadata": {
    "collapsed": false
   },
   "outputs": [],
   "source": [
    "# remove outliers?\n",
    "# try removing all those that have values more than 3 SD away from mean\n",
    "derivDFClean = derivDF.drop([\"SqmUserId\",\"SnapshotTime\"], axis=1)\n",
    "derivDFClean = derivDFClean[(np.abs(stats.zscore(derivDFClean)) < 3).all(axis=1)]\n",
    "\n"
   ]
  },
  {
   "cell_type": "code",
   "execution_count": null,
   "metadata": {
    "collapsed": false
   },
   "outputs": [],
   "source": []
  },
  {
   "cell_type": "code",
   "execution_count": 8,
   "metadata": {
    "collapsed": false
   },
   "outputs": [
    {
     "name": "stdout",
     "output_type": "stream",
     "text": [
      "dDistCmdsWk0Wk1    462201\n",
      "dDistCmdsWk1Wk2    462201\n",
      "dDistCmdsWk2Wk3    462201\n",
      "dTotCmdsWk0Wk1     462201\n",
      "dTotCmdsWk1Wk2     462201\n",
      "dTotCmdsWk2Wk3     462201\n",
      "AvgdDistCmds       462201\n",
      "AvgdTotCmds        462201\n",
      "RetainedExcel      462201\n",
      "dtype: int64\n"
     ]
    }
   ],
   "source": [
    "derivDFClean.head()\n",
    "print(derivDFClean.count())"
   ]
  },
  {
   "cell_type": "code",
   "execution_count": 9,
   "metadata": {
    "collapsed": true
   },
   "outputs": [],
   "source": [
    "# try just avgs for predictors?\n",
    "# used derivDF.columns.tolist() to get feature lists\n",
    "predictors=[\"AvgdDistCmds\",\"AvgdTotCmds\"]\n",
    "predictorsAll=['dDistCmdsWk0Wk1', 'dDistCmdsWk1Wk2', 'dDistCmdsWk2Wk3', 'dTotCmdsWk0Wk1',\n",
    "               'dTotCmdsWk1Wk2', 'dTotCmdsWk2Wk3', 'AvgdDistCmds', 'AvgdTotCmds']"
   ]
  },
  {
   "cell_type": "code",
   "execution_count": 10,
   "metadata": {
    "collapsed": false
   },
   "outputs": [
    {
     "name": "stdout",
     "output_type": "stream",
     "text": [
      "training time: % sec 5.085453033447266\n",
      "Pred         0       1\n",
      "Actual                \n",
      "0       100564   40031\n",
      "1        46627  274979\n",
      "Accuracy training on full dataset: % 0.812510141692\n",
      "AUC: % 0.785146310895\n",
      "Average M2 Retention for Excel sample: % 69.6876\n"
     ]
    }
   ],
   "source": [
    "# try random forest to predict retention of Excel users\n",
    "# 13 sec on sampled 500000 data\n",
    "\n",
    "X = derivDFClean[predictorsAll]\n",
    "y = derivDFClean[\"RetainedExcel\"]\n",
    "\n",
    "clf = RandomForestClassifier(n_estimators=10, max_features=2, min_samples_split=5, n_jobs=2)\n",
    "start = time.time()\n",
    "clf.fit(X, y)\n",
    "print(\"training time: % sec\", time.time() - start)\n",
    "\n",
    "# show table of results\n",
    "print(pd.crosstab(derivDFClean.RetainedExcel, clf.predict(derivDFClean[predictorsAll]), rownames=[\"Actual\"], colnames=[\"Pred\"]))\n",
    "\n",
    "# accuracy on training set\n",
    "# scoring\n",
    "score = clf.score(X, y)\n",
    "print(\"Accuracy training on full dataset: %\", score)\n",
    "\n",
    "# AUC\n",
    "print(\"AUC: %\", roc_auc_score(derivDFClean.RetainedExcel, clf.predict(derivDFClean[predictorsAll])))\n",
    "\n",
    "# retention\n",
    "print(\"Average M2 Retention for Excel sample: %\", derivDF.RetainedExcel.mean()*100)"
   ]
  },
  {
   "cell_type": "code",
   "execution_count": 11,
   "metadata": {
    "collapsed": false
   },
   "outputs": [
    {
     "data": {
      "text/plain": [
       "array([ 0.12406103,  0.09369394,  0.09691724,  0.15686286,  0.13695351,\n",
       "        0.11676305,  0.11737296,  0.15737542])"
      ]
     },
     "execution_count": 11,
     "metadata": {},
     "output_type": "execute_result"
    }
   ],
   "source": [
    "# feature importances show that the Wk0-Wk1 Total Commands and the Avg dTot Commands (average of all three slopes)\n",
    "# are the best features\n",
    "clf.feature_importances_"
   ]
  },
  {
   "cell_type": "code",
   "execution_count": 12,
   "metadata": {
    "collapsed": false
   },
   "outputs": [
    {
     "data": {
      "text/plain": [
       "Ttest_indResult(statistic=array([ 21.39949401,  13.26246221,   7.17498303,  25.97080847,\n",
       "         9.48358291,   3.8761492 ,  38.00376641,  35.06484932]), pvalue=array([  1.61830283e-101,   3.92717498e-040,   7.24944778e-013,\n",
       "         1.42458525e-148,   2.47039782e-021,   1.06140920e-004,\n",
       "         0.00000000e+000,   6.36861582e-269]))"
      ]
     },
     "execution_count": 12,
     "metadata": {},
     "output_type": "execute_result"
    }
   ],
   "source": [
    "# t-tests\n",
    "#stats.ttest_ind(rvs1,rvs2, axis=1)\n",
    "\n",
    "# split on retained or not\n",
    "derivDFNo = derivDFClean[derivDFClean.RetainedExcel == 0] \n",
    "derivDFYes = derivDFClean[derivDFClean.RetainedExcel == 1]\n",
    "\n",
    "#derivDFWordCleaned[derivDFWordCleaned.apply(lambda x: np.abs(x - x.mean()) / x.std() < 3).all(axis=1)]\n",
    "stats.ttest_ind(derivDFYes[predictorsAll], derivDFNo[predictorsAll], equal_var=False)\n",
    "\n",
    "# t-test indicates all columns are significant, but lowest p-values are for dTotCmdsWk0Wk1 and AvgdTotCmds"
   ]
  },
  {
   "cell_type": "code",
   "execution_count": 13,
   "metadata": {
    "collapsed": false
   },
   "outputs": [
    {
     "data": {
      "text/plain": [
       "(321606, 9)"
      ]
     },
     "execution_count": 13,
     "metadata": {},
     "output_type": "execute_result"
    }
   ],
   "source": [
    "derivDFYes.shape"
   ]
  },
  {
   "cell_type": "code",
   "execution_count": 14,
   "metadata": {
    "collapsed": false
   },
   "outputs": [
    {
     "data": {
      "image/png": "[encoded data removed]",
      "text/plain": [
       "<matplotlib.figure.Figure at 0x260e1b637b8>"
      ]
     },
     "metadata": {},
     "output_type": "display_data"
    }
   ],
   "source": [
    "# make some plots of the variables of interest\n",
    "# the histogram of the data\n",
    "\n",
    "\n",
    "plt.figure(1)\n",
    "plt.subplot(211)\n",
    "plt.hist([derivDFNo.dTotCmdsWk0Wk1, derivDFYes.dTotCmdsWk0Wk1], 50, normed=2, alpha=0.75)\n",
    "plt.axis([-50, 50, 0, 0.08])\n",
    "grn_patch = mpatches.Patch(color='green', label='Retained')\n",
    "blue_patch = mpatches.Patch(color='blue', label='NotRetained')\n",
    "plt.legend(handles=[grn_patch, blue_patch])\n",
    "plt.xlabel('dTotCmdsWk0Wk1')\n",
    "plt.ylabel('Probability')\n",
    "plt.title('Histogram of dTotCmdsWk0Wk1')\n",
    "#plt.text(60, .025, r'$\\mu=100,\\ \\sigma=15$')\n",
    "\n",
    "plt.subplot(212)\n",
    "plt.hist([derivDFNo.AvgdTotCmds, derivDFYes.AvgdTotCmds], 50, normed=1, alpha=0.75)\n",
    "plt.axis([-50, 50, 0, 0.25])\n",
    "plt.xlabel('AvgdTotCmds')\n",
    "plt.ylabel('Probability')\n",
    "plt.title('Histogram of AvgdTotCmds')\n",
    "#plt.grid(True)\n",
    "grn_patch = mpatches.Patch(color='green', label='Retained')\n",
    "blue_patch = mpatches.Patch(color='blue', label='NotRetained')\n",
    "plt.legend(handles=[grn_patch, blue_patch])\n",
    "plt.tight_layout()\n",
    "plt.show()\n",
    "\n",
    "# plots show that not retained are more negative values for Avg and dTotCmds\n"
   ]
  },
  {
   "cell_type": "code",
   "execution_count": null,
   "metadata": {
    "collapsed": true
   },
   "outputs": [],
   "source": []
  },
  {
   "cell_type": "code",
   "execution_count": 15,
   "metadata": {
    "collapsed": false
   },
   "outputs": [
    {
     "name": "stdout",
     "output_type": "stream",
     "text": [
      "training time: % sec 15.160232543945312\n",
      "Pred        0      1\n",
      "Actual              \n",
      "0       19416  18612\n",
      "1       14696  72432\n",
      "Accuracy on test dataset: % 0.733868132571\n",
      "Accuracy: 0.73 (+/- 0.00)\n",
      "AUC: % 0.670949889028\n"
     ]
    }
   ],
   "source": [
    "# random forest prediction\n",
    "# with train/test split\n",
    "#\n",
    "\n",
    "# it takes 9000 sec (2.5 hrs) on full data set (39M devices running Excel) on desktop machine\n",
    "# and yields nearly the same results, so using 500k sample for all future runs\n",
    "\n",
    "np.random.seed(732)\n",
    "derivDF['is_train'] = np.random.uniform(0, 1, len(derivDF)) <= .75\n",
    "\n",
    "train, test = derivDF[derivDF['is_train']==True], derivDF[derivDF['is_train']==False]\n",
    "\n",
    "# predictors to use\n",
    "predictorsTemp = predictorsAll\n",
    "\n",
    "# params n_estimators=10, max_features=5, min_samples_split=5, n_jobs=2\n",
    "# use more estimators, 4 max features, n_jobs=2 means use two cores in parallel\n",
    "clfTT = RandomForestClassifier(n_estimators=40, max_features=2, min_samples_split=10, n_jobs=2)\n",
    "start = time.time()\n",
    "clfTT.fit(train[predictorsTemp], train[\"RetainedExcel\"])\n",
    "print(\"training time: % sec\", time.time() - start)\n",
    "\n",
    "# predict based on model and show results\n",
    "preds = clfTT.predict(test[predictorsTemp])\n",
    "print(pd.crosstab(test[\"RetainedExcel\"], preds, rownames=[\"Actual\"], colnames=[\"Pred\"]))\n",
    "\n",
    "# score it\n",
    "score = clfTT.score(test[predictorsTemp], test[\"RetainedExcel\"])\n",
    "print(\"Accuracy on test dataset: %\",score)\n",
    "print(\"Accuracy: %0.2f (+/- %0.2f)\" % (score.mean(), score.std() * 2))\n",
    "\n",
    "print(\"AUC: %\", roc_auc_score(test.RetainedExcel, clfTT.predict(test[predictorsTemp])))\n",
    "\n",
    "# with full dataset\n",
    "#training time: % sec 9032.093394756317\n",
    "#Pred          0        1\n",
    "#Actual                  \n",
    "#0       1525010  1467288\n",
    "#1       1140707  5759276\n",
    "#Accuracy on test dataset: % 0.736360602777\n",
    "#AUC: % 0.672162416563\n",
    "\n",
    "# with sample and n_estimators=20, max_features=4, min_smaples_split=5\n",
    "#training time: % sec 14.555599212646484\n",
    "#Pred        0      1\n",
    "#Actual              \n",
    "#0       19763  18265\n",
    "#1       15682  71446\n",
    "#Accuracy on test dataset: % 0.728762504395\n",
    "#AUC: % 0.669853974963\n",
    "\n",
    "# with sample and n_estimators=40, max_features=2, min_samples_split=10, n_jobs=2\n",
    "#training time: % sec 17.28408145904541\n",
    "#Pred        0      1\n",
    "#Actual              \n",
    "#0       19416  18612\n",
    "#1       14696  72432\n",
    "#Accuracy on test dataset: % 0.733868132571\n",
    "#AUC: % 0.670949889028"
   ]
  },
  {
   "cell_type": "code",
   "execution_count": null,
   "metadata": {
    "collapsed": false
   },
   "outputs": [],
   "source": []
  },
  {
   "cell_type": "code",
   "execution_count": 16,
   "metadata": {
    "collapsed": false
   },
   "outputs": [
    {
     "name": "stdout",
     "output_type": "stream",
     "text": [
      "0.755219117285\n",
      "[ 0.          0.35250233  1.        ] [ 0.          0.86294057  1.        ]\n"
     ]
    },
    {
     "data": {
      "image/png": "[encoded data removed]",
      "text/plain": [
       "<matplotlib.figure.Figure at 0x260e28576a0>"
      ]
     },
     "metadata": {},
     "output_type": "display_data"
    }
   ],
   "source": [
    "# train fit scoring\n",
    "fprTrain, tprTrain, _ = roc_curve(train[\"RetainedExcel\"], clfTT.predict(train[predictorsTemp]))\n",
    "\n",
    "roc_auc_train = auc(fprTrain, tprTrain)\n",
    "\n",
    "print(roc_auc_train)\n",
    "print(fprTrain, tprTrain)\n",
    "\n",
    "# ROC plot\n",
    "plt.figure()\n",
    "lw = 2\n",
    "plt.plot(fprTrain, tprTrain, color='darkorange',\n",
    "         lw=lw, label='ROC curve (area = %0.2f)' % roc_auc_train)\n",
    "plt.plot([0, 1], [0, 1], color='navy', lw=lw, linestyle='--')\n",
    "plt.xlim([0.0, 1.0])\n",
    "plt.ylim([0.0, 1.05])\n",
    "plt.xlabel('False Positive Rate')\n",
    "plt.ylabel('True Positive Rate')\n",
    "plt.title('ROC for Training Set')\n",
    "plt.legend(loc=\"lower right\")\n",
    "plt.show()"
   ]
  },
  {
   "cell_type": "code",
   "execution_count": null,
   "metadata": {
    "collapsed": false
   },
   "outputs": [],
   "source": []
  },
  {
   "cell_type": "code",
   "execution_count": 17,
   "metadata": {
    "collapsed": false
   },
   "outputs": [
    {
     "name": "stdout",
     "output_type": "stream",
     "text": [
      "0.670949889028\n",
      "[ 0.          0.48942884  1.        ] [ 0.          0.83132862  1.        ]\n"
     ]
    },
    {
     "data": {
      "image/png": "[encoded data removed]",
      "text/plain": [
       "<matplotlib.figure.Figure at 0x2608003e0f0>"
      ]
     },
     "metadata": {},
     "output_type": "display_data"
    }
   ],
   "source": [
    "# plot ROC for test set\n",
    "fpr, tpr, _ = roc_curve(test[\"RetainedExcel\"], preds)\n",
    "\n",
    "roc_auc = auc(fpr, tpr)\n",
    "\n",
    "print(roc_auc)\n",
    "print(fpr, tpr)\n",
    "\n",
    "plt.figure()\n",
    "lw = 2\n",
    "plt.plot(fpr, tpr, color='darkorange',\n",
    "         lw=lw, label='ROC curve (area = %0.2f)' % roc_auc)\n",
    "plt.plot([0, 1], [0, 1], color='navy', lw=lw, linestyle='--')\n",
    "plt.xlim([0.0, 1.0])\n",
    "plt.ylim([0.0, 1.05])\n",
    "plt.xlabel('False Positive Rate')\n",
    "plt.ylabel('True Positive Rate')\n",
    "plt.title('ROC for Test set')\n",
    "plt.legend(loc=\"lower right\")\n",
    "plt.show()\n"
   ]
  },
  {
   "cell_type": "code",
   "execution_count": 18,
   "metadata": {
    "collapsed": true
   },
   "outputs": [],
   "source": [
    "# test the model on another dataset\n",
    "# this one is users of Excel on July 31st for the prev 4 weeks\n",
    "# and retention period is to check the 28 days after a gap of 28 days (M2 Retention)\n",
    "\n",
    "pathName=\"E:/python-stuff/data/\"\n",
    "# 500000 sample\n",
    "#fileName = \"DerivativeRetention500000.csv\"\n",
    "\n",
    "# full data set (39M devices, 5 GB csv)\n",
    "fileName = \"DerivativeRetention500000_2016-07-31.csv\"\n",
    "filePath = os.path.join(pathName, fileName)\n",
    "\n",
    "# load the DF\n",
    "derivDFJuly = pd.read_csv(filePath)\n"
   ]
  },
  {
   "cell_type": "code",
   "execution_count": 19,
   "metadata": {
    "collapsed": false
   },
   "outputs": [],
   "source": [
    "#print(derivDFJuly.head())"
   ]
  },
  {
   "cell_type": "code",
   "execution_count": 20,
   "metadata": {
    "collapsed": false
   },
   "outputs": [
    {
     "name": "stdout",
     "output_type": "stream",
     "text": [
      "Pred        0       1\n",
      "Actual               \n",
      "0       76754   74702\n",
      "1       57463  291081\n",
      "Accuracy on test dataset: % 0.73567\n",
      "Accuracy: 0.74 (+/- 0.00)\n",
      "AUC: % 0.670954201381\n",
      "Average Retention for July 31 Excel users: % 69.70880000000001\n"
     ]
    }
   ],
   "source": [
    "# test model accuracy on the July Excel M2 Retention data\n",
    "\n",
    "# predictors to use\n",
    "predictorsJuly = predictorsAll\n",
    "\n",
    "# predict based on model and show results\n",
    "preds = clfTT.predict(derivDFJuly[predictorsJuly])\n",
    "print(pd.crosstab(derivDFJuly[\"RetainedExcel\"], preds, rownames=[\"Actual\"], colnames=[\"Pred\"]))\n",
    "\n",
    "# score it\n",
    "score = clfTT.score(derivDFJuly[predictorsJuly], derivDFJuly[\"RetainedExcel\"])\n",
    "print(\"Accuracy on test dataset: %\",score)\n",
    "print(\"Accuracy: %0.2f (+/- %0.2f)\" % (score.mean(), score.std() * 2))\n",
    "\n",
    "print(\"AUC: %\", roc_auc_score(derivDFJuly.RetainedExcel, clfTT.predict(derivDFJuly[predictorsJuly])))\n",
    "\n",
    "print(\"Average Retention for July 31 Excel users: %\", derivDFJuly.RetainedExcel.mean()*100)\n",
    "\n",
    "#Pred        0       1\n",
    "#Actual               \n",
    "#0       77175   74281\n",
    "#1       57185  291359\n",
    "#Accuracy on test dataset: % 0.737068\n",
    "#AUC: % 0.672742845849\n",
    "#Average Retention for July 31 Excel users: % 69.70880000000001\n"
   ]
  },
  {
   "cell_type": "code",
   "execution_count": 21,
   "metadata": {
    "collapsed": false
   },
   "outputs": [
    {
     "name": "stdout",
     "output_type": "stream",
     "text": [
      "Pred        0       1\n",
      "Actual               \n",
      "0       71217   79030\n",
      "1       63795  285958\n",
      "Accuracy on test dataset: % 0.71435\n",
      "Accuracy: 0.71 (+/- 0.00)\n",
      "AUC: % 0.645799664946\n",
      "Average Retention for Aug Word users: % 69.9506\n"
     ]
    }
   ],
   "source": [
    "# what if we run it on Word using the same model\n",
    "# Aug cohort, M2 Retention\n",
    "\n",
    "# full data set (39M devices, 5 GB csv)\n",
    "fileName = \"DerivativeRetentionWord500000_2016-08-28.csv\"\n",
    "filePath = os.path.join(pathName, fileName)\n",
    "\n",
    "# load the DF\n",
    "derivDFWord = pd.read_csv(filePath)\n",
    "\n",
    "# predictors to use\n",
    "predictors = predictorsAll\n",
    "\n",
    "# predict based on model and show results\n",
    "preds = clfTT.predict(derivDFWord[predictors])\n",
    "print(pd.crosstab(derivDFWord[\"RetainedWord\"], preds, rownames=[\"Actual\"], colnames=[\"Pred\"]))\n",
    "\n",
    "# score it\n",
    "score = clfTT.score(derivDFWord[predictors], derivDFWord[\"RetainedWord\"])\n",
    "print(\"Accuracy on test dataset: %\",score)\n",
    "print(\"Accuracy: %0.2f (+/- %0.2f)\" % (score.mean(), score.std() * 2))\n",
    "\n",
    "print(\"AUC: %\", roc_auc_score(derivDFWord.RetainedWord, clfTT.predict(derivDFWord[predictors])))\n",
    "\n",
    "print(\"Average Retention for Aug Word users: %\", derivDFWord.RetainedWord.mean()*100)\n",
    "\n",
    "# first time without outliers removed from excel\n",
    "#Pred        0       1\n",
    "#Actual               \n",
    "#0       72234   78013\n",
    "#1       64381  285372\n",
    "#Accuracy on test dataset: % 0.715212\n",
    "#AUC: % 0.648346357864\n",
    "#Average Retention for Aug Word users: % 69.9506\n"
   ]
  },
  {
   "cell_type": "code",
   "execution_count": null,
   "metadata": {
    "collapsed": false
   },
   "outputs": [],
   "source": []
  },
  {
   "cell_type": "code",
   "execution_count": 22,
   "metadata": {
    "collapsed": false
   },
   "outputs": [
    {
     "data": {
      "text/html": [
       "<div>\n",
       "<table border=\"1\" class=\"dataframe\">\n",
       "  <thead>\n",
       "    <tr style=\"text-align: right;\">\n",
       "      <th></th>\n",
       "      <th>dDistCmdsWk0Wk1</th>\n",
       "      <th>dDistCmdsWk1Wk2</th>\n",
       "      <th>dDistCmdsWk2Wk3</th>\n",
       "      <th>dTotCmdsWk0Wk1</th>\n",
       "      <th>dTotCmdsWk1Wk2</th>\n",
       "      <th>dTotCmdsWk2Wk3</th>\n",
       "      <th>AvgdDistCmds</th>\n",
       "      <th>AvgdTotCmds</th>\n",
       "      <th>RetainedWord</th>\n",
       "    </tr>\n",
       "  </thead>\n",
       "  <tbody>\n",
       "    <tr>\n",
       "      <th>count</th>\n",
       "      <td>500000.000000</td>\n",
       "      <td>500000.000000</td>\n",
       "      <td>500000.000000</td>\n",
       "      <td>500000.000000</td>\n",
       "      <td>500000.000000</td>\n",
       "      <td>500000.000000</td>\n",
       "      <td>500000.000000</td>\n",
       "      <td>500000.000000</td>\n",
       "      <td>500000.000000</td>\n",
       "    </tr>\n",
       "    <tr>\n",
       "      <th>mean</th>\n",
       "      <td>0.613835</td>\n",
       "      <td>0.264161</td>\n",
       "      <td>0.150402</td>\n",
       "      <td>6.879038</td>\n",
       "      <td>2.821548</td>\n",
       "      <td>1.788947</td>\n",
       "      <td>0.342771</td>\n",
       "      <td>3.829833</td>\n",
       "      <td>0.699506</td>\n",
       "    </tr>\n",
       "    <tr>\n",
       "      <th>std</th>\n",
       "      <td>8.237764</td>\n",
       "      <td>7.741755</td>\n",
       "      <td>7.425534</td>\n",
       "      <td>483.097744</td>\n",
       "      <td>542.193752</td>\n",
       "      <td>598.355812</td>\n",
       "      <td>2.815747</td>\n",
       "      <td>191.254245</td>\n",
       "      <td>0.458473</td>\n",
       "    </tr>\n",
       "    <tr>\n",
       "      <th>min</th>\n",
       "      <td>-176.000000</td>\n",
       "      <td>-234.500000</td>\n",
       "      <td>-144.000000</td>\n",
       "      <td>-74152.500000</td>\n",
       "      <td>-117992.500000</td>\n",
       "      <td>-170584.000000</td>\n",
       "      <td>-50.330000</td>\n",
       "      <td>-56818.250000</td>\n",
       "      <td>0.000000</td>\n",
       "    </tr>\n",
       "    <tr>\n",
       "      <th>25%</th>\n",
       "      <td>-1.830000</td>\n",
       "      <td>-1.500000</td>\n",
       "      <td>-1.200000</td>\n",
       "      <td>-5.000000</td>\n",
       "      <td>-4.000000</td>\n",
       "      <td>-3.830000</td>\n",
       "      <td>-0.500000</td>\n",
       "      <td>-1.330000</td>\n",
       "      <td>0.000000</td>\n",
       "    </tr>\n",
       "    <tr>\n",
       "      <th>50%</th>\n",
       "      <td>0.000000</td>\n",
       "      <td>0.000000</td>\n",
       "      <td>0.000000</td>\n",
       "      <td>0.000000</td>\n",
       "      <td>0.000000</td>\n",
       "      <td>0.000000</td>\n",
       "      <td>0.000000</td>\n",
       "      <td>0.000000</td>\n",
       "      <td>1.000000</td>\n",
       "    </tr>\n",
       "    <tr>\n",
       "      <th>75%</th>\n",
       "      <td>3.000000</td>\n",
       "      <td>2.000000</td>\n",
       "      <td>1.580000</td>\n",
       "      <td>12.250000</td>\n",
       "      <td>6.000000</td>\n",
       "      <td>4.500000</td>\n",
       "      <td>1.170000</td>\n",
       "      <td>5.500000</td>\n",
       "      <td>1.000000</td>\n",
       "    </tr>\n",
       "    <tr>\n",
       "      <th>max</th>\n",
       "      <td>169.000000</td>\n",
       "      <td>194.000000</td>\n",
       "      <td>287.000000</td>\n",
       "      <td>59352.250000</td>\n",
       "      <td>74123.000000</td>\n",
       "      <td>117992.500000</td>\n",
       "      <td>56.330000</td>\n",
       "      <td>19784.420000</td>\n",
       "      <td>1.000000</td>\n",
       "    </tr>\n",
       "  </tbody>\n",
       "</table>\n",
       "</div>"
      ],
      "text/plain": [
       "       dDistCmdsWk0Wk1  dDistCmdsWk1Wk2  dDistCmdsWk2Wk3  dTotCmdsWk0Wk1  \\\n",
       "count    500000.000000    500000.000000    500000.000000   500000.000000   \n",
       "mean          0.613835         0.264161         0.150402        6.879038   \n",
       "std           8.237764         7.741755         7.425534      483.097744   \n",
       "min        -176.000000      -234.500000      -144.000000   -74152.500000   \n",
       "25%          -1.830000        -1.500000        -1.200000       -5.000000   \n",
       "50%           0.000000         0.000000         0.000000        0.000000   \n",
       "75%           3.000000         2.000000         1.580000       12.250000   \n",
       "max         169.000000       194.000000       287.000000    59352.250000   \n",
       "\n",
       "       dTotCmdsWk1Wk2  dTotCmdsWk2Wk3   AvgdDistCmds    AvgdTotCmds  \\\n",
       "count   500000.000000   500000.000000  500000.000000  500000.000000   \n",
       "mean         2.821548        1.788947       0.342771       3.829833   \n",
       "std        542.193752      598.355812       2.815747     191.254245   \n",
       "min    -117992.500000  -170584.000000     -50.330000  -56818.250000   \n",
       "25%         -4.000000       -3.830000      -0.500000      -1.330000   \n",
       "50%          0.000000        0.000000       0.000000       0.000000   \n",
       "75%          6.000000        4.500000       1.170000       5.500000   \n",
       "max      74123.000000   117992.500000      56.330000   19784.420000   \n",
       "\n",
       "        RetainedWord  \n",
       "count  500000.000000  \n",
       "mean        0.699506  \n",
       "std         0.458473  \n",
       "min         0.000000  \n",
       "25%         0.000000  \n",
       "50%         1.000000  \n",
       "75%         1.000000  \n",
       "max         1.000000  "
      ]
     },
     "execution_count": 22,
     "metadata": {},
     "output_type": "execute_result"
    }
   ],
   "source": [
    "derivDFWord.describe()"
   ]
  },
  {
   "cell_type": "code",
   "execution_count": 23,
   "metadata": {
    "collapsed": true
   },
   "outputs": [],
   "source": [
    "# remove outliers?\n",
    "# try removing all those that have values more than 3 SD away from mean\n",
    "# remove SqmUserId and SnapshotTime as they are strings\n",
    "derivDFWordCleaned = derivDFWord.drop([\"SqmUserId\",\"SnapshotTime\"], axis=1)\n",
    "derivDFWordCleaned = derivDFWordCleaned[derivDFWordCleaned.apply(lambda x: np.abs(x - x.mean()) / x.std() < 3).all(axis=1)]\n"
   ]
  },
  {
   "cell_type": "code",
   "execution_count": 24,
   "metadata": {
    "collapsed": false
   },
   "outputs": [
    {
     "data": {
      "text/html": [
       "<div>\n",
       "<table border=\"1\" class=\"dataframe\">\n",
       "  <thead>\n",
       "    <tr style=\"text-align: right;\">\n",
       "      <th></th>\n",
       "      <th>dDistCmdsWk0Wk1</th>\n",
       "      <th>dDistCmdsWk1Wk2</th>\n",
       "      <th>dDistCmdsWk2Wk3</th>\n",
       "      <th>dTotCmdsWk0Wk1</th>\n",
       "      <th>dTotCmdsWk1Wk2</th>\n",
       "      <th>dTotCmdsWk2Wk3</th>\n",
       "      <th>AvgdDistCmds</th>\n",
       "      <th>AvgdTotCmds</th>\n",
       "      <th>RetainedWord</th>\n",
       "    </tr>\n",
       "  </thead>\n",
       "  <tbody>\n",
       "    <tr>\n",
       "      <th>count</th>\n",
       "      <td>470229.000000</td>\n",
       "      <td>470229.000000</td>\n",
       "      <td>470229.000000</td>\n",
       "      <td>470229.000000</td>\n",
       "      <td>470229.000000</td>\n",
       "      <td>470229.000000</td>\n",
       "      <td>470229.000000</td>\n",
       "      <td>470229.000000</td>\n",
       "      <td>470229.000000</td>\n",
       "    </tr>\n",
       "    <tr>\n",
       "      <th>mean</th>\n",
       "      <td>0.615112</td>\n",
       "      <td>0.224158</td>\n",
       "      <td>0.099929</td>\n",
       "      <td>5.983253</td>\n",
       "      <td>1.955936</td>\n",
       "      <td>0.959664</td>\n",
       "      <td>0.313037</td>\n",
       "      <td>2.966272</td>\n",
       "      <td>0.699151</td>\n",
       "    </tr>\n",
       "    <tr>\n",
       "      <th>std</th>\n",
       "      <td>5.995828</td>\n",
       "      <td>5.464045</td>\n",
       "      <td>5.242047</td>\n",
       "      <td>126.151105</td>\n",
       "      <td>121.691943</td>\n",
       "      <td>121.646326</td>\n",
       "      <td>2.080556</td>\n",
       "      <td>46.223260</td>\n",
       "      <td>0.458628</td>\n",
       "    </tr>\n",
       "    <tr>\n",
       "      <th>min</th>\n",
       "      <td>-24.000000</td>\n",
       "      <td>-22.860000</td>\n",
       "      <td>-22.100000</td>\n",
       "      <td>-1442.200000</td>\n",
       "      <td>-1617.750000</td>\n",
       "      <td>-1783.750000</td>\n",
       "      <td>-8.100000</td>\n",
       "      <td>-569.250000</td>\n",
       "      <td>0.000000</td>\n",
       "    </tr>\n",
       "    <tr>\n",
       "      <th>25%</th>\n",
       "      <td>-1.500000</td>\n",
       "      <td>-1.330000</td>\n",
       "      <td>-1.000000</td>\n",
       "      <td>-4.000000</td>\n",
       "      <td>-4.000000</td>\n",
       "      <td>-3.000000</td>\n",
       "      <td>-0.470000</td>\n",
       "      <td>-1.330000</td>\n",
       "      <td>0.000000</td>\n",
       "    </tr>\n",
       "    <tr>\n",
       "      <th>50%</th>\n",
       "      <td>0.000000</td>\n",
       "      <td>0.000000</td>\n",
       "      <td>0.000000</td>\n",
       "      <td>0.000000</td>\n",
       "      <td>0.000000</td>\n",
       "      <td>0.000000</td>\n",
       "      <td>0.000000</td>\n",
       "      <td>0.000000</td>\n",
       "      <td>1.000000</td>\n",
       "    </tr>\n",
       "    <tr>\n",
       "      <th>75%</th>\n",
       "      <td>3.000000</td>\n",
       "      <td>2.000000</td>\n",
       "      <td>1.500000</td>\n",
       "      <td>11.000000</td>\n",
       "      <td>5.500000</td>\n",
       "      <td>4.000000</td>\n",
       "      <td>1.100000</td>\n",
       "      <td>4.890000</td>\n",
       "      <td>1.000000</td>\n",
       "    </tr>\n",
       "    <tr>\n",
       "      <th>max</th>\n",
       "      <td>25.250000</td>\n",
       "      <td>23.330000</td>\n",
       "      <td>22.400000</td>\n",
       "      <td>1454.250000</td>\n",
       "      <td>1629.000000</td>\n",
       "      <td>1795.170000</td>\n",
       "      <td>8.780000</td>\n",
       "      <td>575.710000</td>\n",
       "      <td>1.000000</td>\n",
       "    </tr>\n",
       "  </tbody>\n",
       "</table>\n",
       "</div>"
      ],
      "text/plain": [
       "       dDistCmdsWk0Wk1  dDistCmdsWk1Wk2  dDistCmdsWk2Wk3  dTotCmdsWk0Wk1  \\\n",
       "count    470229.000000    470229.000000    470229.000000   470229.000000   \n",
       "mean          0.615112         0.224158         0.099929        5.983253   \n",
       "std           5.995828         5.464045         5.242047      126.151105   \n",
       "min         -24.000000       -22.860000       -22.100000    -1442.200000   \n",
       "25%          -1.500000        -1.330000        -1.000000       -4.000000   \n",
       "50%           0.000000         0.000000         0.000000        0.000000   \n",
       "75%           3.000000         2.000000         1.500000       11.000000   \n",
       "max          25.250000        23.330000        22.400000     1454.250000   \n",
       "\n",
       "       dTotCmdsWk1Wk2  dTotCmdsWk2Wk3   AvgdDistCmds    AvgdTotCmds  \\\n",
       "count   470229.000000   470229.000000  470229.000000  470229.000000   \n",
       "mean         1.955936        0.959664       0.313037       2.966272   \n",
       "std        121.691943      121.646326       2.080556      46.223260   \n",
       "min      -1617.750000    -1783.750000      -8.100000    -569.250000   \n",
       "25%         -4.000000       -3.000000      -0.470000      -1.330000   \n",
       "50%          0.000000        0.000000       0.000000       0.000000   \n",
       "75%          5.500000        4.000000       1.100000       4.890000   \n",
       "max       1629.000000     1795.170000       8.780000     575.710000   \n",
       "\n",
       "        RetainedWord  \n",
       "count  470229.000000  \n",
       "mean        0.699151  \n",
       "std         0.458628  \n",
       "min         0.000000  \n",
       "25%         0.000000  \n",
       "50%         1.000000  \n",
       "75%         1.000000  \n",
       "max         1.000000  "
      ]
     },
     "execution_count": 24,
     "metadata": {},
     "output_type": "execute_result"
    }
   ],
   "source": [
    "# what does it look like now?\n",
    "derivDFWordCleaned.describe()\n",
    "#print(derivDFWord.describe())\n",
    "# lost around 30k devices"
   ]
  },
  {
   "cell_type": "code",
   "execution_count": 25,
   "metadata": {
    "collapsed": false
   },
   "outputs": [
    {
     "name": "stdout",
     "output_type": "stream",
     "text": [
      "Pred        0       1\n",
      "Actual               \n",
      "0       67693   73775\n",
      "1       59917  268844\n",
      "Accuracy on test dataset: % 0.715687462917\n",
      "Accuracy: 0.72 (+/- 0.00)\n",
      "AUC: % 0.64812651827\n",
      "Average Retention for Aug Word users: % 69.91508392719292\n"
     ]
    }
   ],
   "source": [
    "# after removing word outliers, does the model perform any better?\n",
    "\n",
    "# predict based on model and show results\n",
    "preds = clfTT.predict(derivDFWordCleaned[predictors])\n",
    "print(pd.crosstab(derivDFWordCleaned[\"RetainedWord\"], preds, rownames=[\"Actual\"], colnames=[\"Pred\"]))\n",
    "\n",
    "# score it\n",
    "score = clfTT.score(derivDFWordCleaned[predictors], derivDFWordCleaned[\"RetainedWord\"])\n",
    "print(\"Accuracy on test dataset: %\",score)\n",
    "print(\"Accuracy: %0.2f (+/- %0.2f)\" % (score.mean(), score.std() * 2))\n",
    "\n",
    "\n",
    "print(\"AUC: %\", roc_auc_score(derivDFWordCleaned.RetainedWord, clfTT.predict(derivDFWordCleaned[predictors])))\n",
    "\n",
    "print(\"Average Retention for Aug Word users: %\", derivDFWordCleaned.RetainedWord.mean()*100)\n",
    "\n",
    "# output\n",
    "#Pred        0       1\n",
    "#Actual               \n",
    "#0       68986   72482\n",
    "#1       64341  264420\n",
    "#Accuracy on test dataset: % 0.709029005017\n",
    "#AUC: % 0.645968164367\n",
    "#Average Retention for Aug Word users: % 69.91508392719292\n",
    "\n",
    "# not really better so try training on Word data next\n"
   ]
  },
  {
   "cell_type": "code",
   "execution_count": 26,
   "metadata": {
    "collapsed": false
   },
   "outputs": [
    {
     "name": "stdout",
     "output_type": "stream",
     "text": [
      "training time: % sec 12.841031789779663\n",
      "Pred        0      1\n",
      "Actual              \n",
      "0       14330  20812\n",
      "1       12173  70317\n",
      "Accuracy on test dataset: % 0.719591607726\n",
      "Accuracy: 0.72 (+/- 0.00)\n",
      "AUC: % 0.630102385501\n",
      "Average Retention for Aug Word users: % 69.91508392719292\n"
     ]
    }
   ],
   "source": [
    "# try retraining for Word data\n",
    "# 500,000 sample, Aug 28, 2016 M2 Retention\n",
    "\n",
    "np.random.seed(732)\n",
    "derivDFWordCleaned['is_train'] = np.random.uniform(0, 1, len(derivDFWordCleaned)) <= .75\n",
    "\n",
    "train, test = derivDFWordCleaned[derivDFWordCleaned['is_train']==True], derivDFWordCleaned[derivDFWordCleaned['is_train']==False]\n",
    "\n",
    "# predictors to use\n",
    "predictorsTemp = predictorsAll\n",
    "\n",
    "# params n_estimators=10, max_features=5, min_samples_split=5, n_jobs=2\n",
    "# use more estimators, 4 max features, n_jobs=2 means use two cores in parallel\n",
    "clfTTWord = RandomForestClassifier(n_estimators=40, max_features=2, min_samples_split=10, n_jobs=2)\n",
    "start = time.time()\n",
    "clfTTWord.fit(train[predictorsTemp], train[\"RetainedWord\"])\n",
    "print(\"training time: % sec\", time.time() - start)\n",
    "\n",
    "# predict based on model and show results\n",
    "preds = clfTTWord.predict(test[predictorsTemp])\n",
    "print(pd.crosstab(test[\"RetainedWord\"], preds, rownames=[\"Actual\"], colnames=[\"Pred\"]))\n",
    "\n",
    "# score it\n",
    "score = clfTTWord.score(test[predictorsTemp], test[\"RetainedWord\"])\n",
    "print(\"Accuracy on test dataset: %\",score)\n",
    "print(\"Accuracy: %0.2f (+/- %0.2f)\" % (score.mean(), score.std() * 2))\n",
    "\n",
    "print(\"AUC: %\", roc_auc_score(test.RetainedWord, clfTTWord.predict(test[predictorsTemp])))\n",
    "\n",
    "print(\"Average Retention for Aug Word users: %\", derivDFWordCleaned.RetainedWord.mean()*100)\n",
    "# prior to removing outliers\n",
    "#training time: % sec 13.549851179122925\n",
    "#Pred        0      1\n",
    "#Actual              \n",
    "#0       15744  21937\n",
    "#1       13782  73693\n",
    "#Accuracy on test dataset: % 0.714604173991\n",
    "#AUC: % 0.630134859718\n",
    "\n",
    "# after removing outliers and reducing to two features\n",
    "#training time: % sec 19.38641047477722\n",
    "#Pred        0      1\n",
    "#Actual              \n",
    "#0       14429  20713\n",
    "#1       12315  70175\n",
    "#Accuracy on test dataset: % 0.719226060936\n",
    "#AUC: % 0.630650246053\n",
    "#Average Retention for Aug Word users: % 69.91508392719292"
   ]
  },
  {
   "cell_type": "code",
   "execution_count": 27,
   "metadata": {
    "collapsed": false
   },
   "outputs": [
    {
     "data": {
      "text/plain": [
       "array([ 0.11043747,  0.08769649,  0.08388643,  0.17777396,  0.12798312,\n",
       "        0.12716513,  0.11752335,  0.16753405])"
      ]
     },
     "execution_count": 27,
     "metadata": {},
     "output_type": "execute_result"
    }
   ],
   "source": [
    "# still the same best features - slope in wk0 - wk1 commands and avg\n",
    "clfTTWord.feature_importances_"
   ]
  },
  {
   "cell_type": "code",
   "execution_count": 28,
   "metadata": {
    "collapsed": false
   },
   "outputs": [
    {
     "name": "stdout",
     "output_type": "stream",
     "text": [
      "Pred        0       1\n",
      "Actual               \n",
      "0       73065   52072\n",
      "1       62831  312032\n",
      "Accuracy on test dataset: % 0.770194\n",
      "Accuracy: 0.77 (+/- 0.00)\n",
      "AUC: % 0.708134750193\n",
      "Average M1 Retention for Aug Excel users: % 74.9726\n"
     ]
    }
   ],
   "source": [
    "#Lastly, test M1 Retention and/or retrain model and see if accuracy improves or gets worse\n",
    "#\n",
    "# Excel August cohort, M1 Retention\n",
    "# DerivativeRetentionExcelM1500000_2016-08-28.csv\n",
    "\n",
    "fileName = \"DerivativeRetentionExcelM1_500000_2016-08-28.csv\"\n",
    "filePath = os.path.join(pathName, fileName)\n",
    "\n",
    "# load the DF\n",
    "derivDFExcelM1 = pd.read_csv(filePath)\n",
    "\n",
    "# predictors to use\n",
    "predictors = predictorsAll\n",
    "\n",
    "# predict based on model and show results\n",
    "preds = clfTT.predict(derivDFExcelM1[predictors])\n",
    "print(pd.crosstab(derivDFExcelM1[\"RetainedExcel\"], preds, rownames=[\"Actual\"], colnames=[\"Pred\"]))\n",
    "\n",
    "# score it\n",
    "score = clfTT.score(derivDFExcelM1[predictors], derivDFExcelM1[\"RetainedExcel\"])\n",
    "print(\"Accuracy on test dataset: %\",score)\n",
    "print(\"Accuracy: %0.2f (+/- %0.2f)\" % (score.mean(), score.std() * 2))\n",
    "\n",
    "print(\"AUC: %\", roc_auc_score(derivDFExcelM1.RetainedExcel, clfTT.predict(derivDFExcelM1[predictors])))\n",
    "\n",
    "print(\"Average M1 Retention for Aug Excel users: %\", derivDFExcelM1.RetainedExcel.mean()*100)\n",
    "\n",
    "# Using Excel M2 model\n",
    "#Pred        0       1\n",
    "#Actual               \n",
    "#0       73065   52072\n",
    "#1       62831  312032\n",
    "#Accuracy on test dataset: % 0.770194\n",
    "#Accuracy: 0.77 (+/- 0.00)\n",
    "#AUC: % 0.708134750193\n",
    "#Average M1 Retention for Aug Excel users: % 74.9726\n"
   ]
  },
  {
   "cell_type": "code",
   "execution_count": 29,
   "metadata": {
    "collapsed": false
   },
   "outputs": [
    {
     "name": "stdout",
     "output_type": "stream",
     "text": [
      "training time: % sec 11.355395793914795\n",
      "Pred        0      1\n",
      "Actual              \n",
      "0       14041  15187\n",
      "1       10636  75886\n",
      "Accuracy on test dataset: % 0.77690712743\n",
      "Accuracy: 0.78 (+/- 0.00)\n",
      "AUC: % 0.678733619288\n",
      "Average M1 Retention for Aug Excel users: % 74.72231826432709\n"
     ]
    }
   ],
   "source": [
    "# retrain the model to see if performance is better\n",
    "\n",
    "# clean outliers\n",
    "derivDFExcelM1Cleaned = derivDFExcelM1.drop([\"SqmUserId\",\"SnapshotTime\"], axis=1)\n",
    "derivDFExcelM1Cleaned = derivDFExcelM1Cleaned[derivDFExcelM1Cleaned.apply(lambda x: np.abs(x - x.mean()) / x.std() < 3).all(axis=1)]\n",
    "\n",
    "np.random.seed(732)\n",
    "derivDFExcelM1Cleaned['is_train'] = np.random.uniform(0, 1, len(derivDFExcelM1Cleaned)) <= .75\n",
    "\n",
    "train, test = derivDFExcelM1Cleaned[derivDFExcelM1Cleaned['is_train']==True], derivDFExcelM1Cleaned[derivDFExcelM1Cleaned['is_train']==False]\n",
    "\n",
    "# predictors to use\n",
    "predictorsTemp = predictorsAll\n",
    "\n",
    "# params n_estimators=10, max_features=5, min_samples_split=5, n_jobs=2\n",
    "# use more estimators, 4 max features, n_jobs=2 means use two cores in parallel\n",
    "clfTTExcelM1 = RandomForestClassifier(n_estimators=40, max_features=2, min_samples_split=10, n_jobs=2)\n",
    "start = time.time()\n",
    "clfTTExcelM1.fit(train[predictorsTemp], train[\"RetainedExcel\"])\n",
    "print(\"training time: % sec\", time.time() - start)\n",
    "\n",
    "# predict based on model and show results\n",
    "preds = clfTTExcelM1.predict(test[predictorsTemp])\n",
    "print(pd.crosstab(test[\"RetainedExcel\"], preds, rownames=[\"Actual\"], colnames=[\"Pred\"]))\n",
    "\n",
    "# score it\n",
    "score = clfTTExcelM1.score(test[predictorsTemp], test[\"RetainedExcel\"])\n",
    "print(\"Accuracy on test dataset: %\",score)\n",
    "print(\"Accuracy: %0.2f (+/- %0.2f)\" % (score.mean(), score.std() * 2))\n",
    "\n",
    "print(\"AUC: %\", roc_auc_score(test.RetainedExcel, clfTTExcelM1.predict(test[predictorsTemp])))\n",
    "\n",
    "print(\"Average M1 Retention for Aug Excel users: %\", derivDFExcelM1Cleaned.RetainedExcel.mean()*100)\n",
    "\n",
    "# results\n",
    "#Pred        0      1\n",
    "#Actual              \n",
    "#0       14041  15187\n",
    "#1       10636  75886\n",
    "#Accuracy on test dataset: % 0.77690712743\n",
    "#Accuracy: 0.78 (+/- 0.00)\n",
    "#AUC: % 0.678733619288\n",
    "#Average M1 Retention for Aug Excel users: % 74.72231826432709\n",
    "\n",
    "# looks like predicting M1 retention is about as good as predicting M2 For Excel 2016\n"
   ]
  },
  {
   "cell_type": "code",
   "execution_count": 30,
   "metadata": {
    "collapsed": false
   },
   "outputs": [
    {
     "name": "stdout",
     "output_type": "stream",
     "text": [
      "0.678733619288\n",
      "[ 0.          0.51960449  1.        ] [ 0.          0.87707173  1.        ]\n"
     ]
    },
    {
     "data": {
      "image/png": "[encoded data removed]",
      "text/plain": [
       "<matplotlib.figure.Figure at 0x2608004d1d0>"
      ]
     },
     "metadata": {},
     "output_type": "display_data"
    }
   ],
   "source": [
    "# plot ROC\n",
    "fpr, tpr, _ = roc_curve(test[\"RetainedExcel\"], preds)\n",
    "\n",
    "roc_auc = auc(fpr, tpr)\n",
    "\n",
    "print(roc_auc)\n",
    "print(fpr, tpr)\n",
    "\n",
    "plt.figure()\n",
    "lw = 2\n",
    "plt.plot(fpr, tpr, color='darkorange',\n",
    "         lw=lw, label='ROC curve (area = %0.2f)' % roc_auc)\n",
    "plt.plot([0, 1], [0, 1], color='navy', lw=lw, linestyle='--')\n",
    "plt.xlim([0.0, 1.0])\n",
    "plt.ylim([0.0, 1.05])\n",
    "plt.xlabel('False Positive Rate')\n",
    "plt.ylabel('True Positive Rate')\n",
    "plt.title('ROC for Test set')\n",
    "plt.legend(loc=\"lower right\")\n",
    "plt.show()"
   ]
  },
  {
   "cell_type": "code",
   "execution_count": 31,
   "metadata": {
    "collapsed": false
   },
   "outputs": [
    {
     "name": "stdout",
     "output_type": "stream",
     "text": [
      "Pred        0       1\n",
      "Actual               \n",
      "0       53899   70069\n",
      "1       50651  325381\n",
      "Accuracy on test dataset: % 0.75856\n",
      "Accuracy: 0.76 (+/- 0.00)\n",
      "AUC: % 0.650041456931\n",
      "Average M1 Retention for Aug Word users: % 75.2064\n"
     ]
    }
   ],
   "source": [
    "# use model for Word M1 and/or retrain\n",
    "#Lastly, test M1 Retention and/or retrain model and see if accuracy improves or gets worse\n",
    "#\n",
    "# Word August cohort, M1 Retention\n",
    "\n",
    "fileName = \"DerivativeRetentionWordM1_500000_2016-08-28.csv\"\n",
    "filePath = os.path.join(pathName, fileName)\n",
    "\n",
    "# load the DF\n",
    "derivDFWordM1 = pd.read_csv(filePath)\n",
    "\n",
    "# predict based on model and show results\n",
    "preds = clfTTExcelM1.predict(derivDFWordM1[predictors])\n",
    "print(pd.crosstab(derivDFWordM1[\"RetainedWord\"], preds, rownames=[\"Actual\"], colnames=[\"Pred\"]))\n",
    "\n",
    "# score it\n",
    "score = clfTTExcelM1.score(derivDFWordM1[predictors], derivDFWordM1[\"RetainedWord\"])\n",
    "print(\"Accuracy on test dataset: %\",score)\n",
    "print(\"Accuracy: %0.2f (+/- %0.2f)\" % (score.mean(), score.std() * 2))\n",
    "\n",
    "print(\"AUC: %\", roc_auc_score(derivDFWordM1.RetainedWord, clfTTExcelM1.predict(derivDFWordM1[predictors])))\n",
    "\n",
    "print(\"Average M1 Retention for Aug Word users: %\", derivDFWordM1.RetainedWord.mean()*100)"
   ]
  },
  {
   "cell_type": "code",
   "execution_count": 32,
   "metadata": {
    "collapsed": false
   },
   "outputs": [
    {
     "name": "stdout",
     "output_type": "stream",
     "text": [
      "training time: % sec 12.238199472427368\n",
      "Pred        0      1\n",
      "Actual              \n",
      "0       12564  16688\n",
      "1       10853  77393\n",
      "Accuracy on test dataset: % 0.765604520928\n",
      "Accuracy: 0.77 (+/- 0.00)\n",
      "AUC: % 0.653261674499\n",
      "Average M1 Retention for Aug Word users: % 75.05413018068941\n"
     ]
    }
   ],
   "source": [
    "#OK, try training on Word M1 data then\n",
    "\n",
    "# clean outliers\n",
    "derivDFWordM1Cleaned = derivDFWordM1.drop([\"SqmUserId\",\"SnapshotTime\"], axis=1)\n",
    "derivDFWordM1Cleaned = derivDFWordM1Cleaned[derivDFWordM1Cleaned.apply(lambda x: np.abs(x - x.mean()) / x.std() < 3).all(axis=1)]\n",
    "\n",
    "np.random.seed(732)\n",
    "derivDFWordM1Cleaned['is_train'] = np.random.uniform(0, 1, len(derivDFWordM1Cleaned)) <= .75\n",
    "\n",
    "train, test = derivDFWordM1Cleaned[derivDFWordM1Cleaned['is_train']==True], derivDFWordM1Cleaned[derivDFWordM1Cleaned['is_train']==False]\n",
    "\n",
    "# predictors to use\n",
    "predictorsTemp = predictorsAll\n",
    "\n",
    "# params n_estimators=10, max_features=5, min_samples_split=5, n_jobs=2\n",
    "# use more estimators, 4 max features, n_jobs=2 means use two cores in parallel\n",
    "clfTTWordM1 = RandomForestClassifier(n_estimators=40, max_features=2, min_samples_split=10, n_jobs=2)\n",
    "start = time.time()\n",
    "clfTTWordM1.fit(train[predictorsTemp], train[\"RetainedWord\"])\n",
    "print(\"training time: % sec\", time.time() - start)\n",
    "\n",
    "# predict based on model and show results\n",
    "preds = clfTTWordM1.predict(test[predictorsTemp])\n",
    "print(pd.crosstab(test[\"RetainedWord\"], preds, rownames=[\"Actual\"], colnames=[\"Pred\"]))\n",
    "\n",
    "# score it\n",
    "score = clfTTWordM1.score(test[predictorsTemp], test[\"RetainedWord\"])\n",
    "print(\"Accuracy on test dataset: %\",score)\n",
    "print(\"Accuracy: %0.2f (+/- %0.2f)\" % (score.mean(), score.std() * 2))\n",
    "\n",
    "print(\"AUC: %\", roc_auc_score(test.RetainedWord, clfTTWordM1.predict(test[predictorsTemp])))\n",
    "\n",
    "print(\"Average M1 Retention for Aug Word users: %\", derivDFWordM1Cleaned.RetainedWord.mean()*100)\n"
   ]
  },
  {
   "cell_type": "code",
   "execution_count": null,
   "metadata": {
    "collapsed": true
   },
   "outputs": [],
   "source": []
  },
  {
   "cell_type": "code",
   "execution_count": 33,
   "metadata": {
    "collapsed": false
   },
   "outputs": [
    {
     "name": "stdout",
     "output_type": "stream",
     "text": [
      "Pred        0       1\n",
      "Actual               \n",
      "0       56518   68619\n",
      "1       42228  332635\n",
      "Accuracy on test dataset: % 0.778306\n",
      "Accuracy: 0.78 (+/- 0.00)\n",
      "AUC: % 0.669499919106\n",
      "Average M1 Retention for Aug Excel users: % 74.9726\n"
     ]
    }
   ],
   "source": [
    "#what if we try the Word model on Excel M1?\n",
    "# predict based on model and show results\n",
    "preds = clfTTWordM1.predict(derivDFExcelM1[predictors])\n",
    "print(pd.crosstab(derivDFExcelM1[\"RetainedExcel\"], preds, rownames=[\"Actual\"], colnames=[\"Pred\"]))\n",
    "\n",
    "# score it\n",
    "score = clfTTWordM1.score(derivDFExcelM1[predictors], derivDFExcelM1[\"RetainedExcel\"])\n",
    "print(\"Accuracy on test dataset: %\",score)\n",
    "print(\"Accuracy: %0.2f (+/- %0.2f)\" % (score.mean(), score.std() * 2))\n",
    "\n",
    "print(\"AUC: %\", roc_auc_score(derivDFExcelM1.RetainedExcel, clfTTWordM1.predict(derivDFExcelM1[predictors])))\n",
    "\n",
    "print(\"Average M1 Retention for Aug Excel users: %\", derivDFExcelM1.RetainedExcel.mean()*100)\n",
    "\n",
    "# results\n",
    "#Pred        0       1\n",
    "#Actual               \n",
    "#0       56518   68619\n",
    "#1       42228  332635\n",
    "#Accuracy on test dataset: % 0.778306\n",
    "#Accuracy: 0.78 (+/- 0.00)\n",
    "#AUC: % 0.669499919106\n",
    "#Average M1 Retention for Aug Excel users: % 74.9726\n"
   ]
  },
  {
   "cell_type": "markdown",
   "metadata": {},
   "source": [
    "Looks like training on Word works well for predicting Excel, but vice versa doesn't perform quite as well\n",
    "And that Predicting M1 Retention is possible, but works better for Excel than Word."
   ]
  },
  {
   "cell_type": "code",
   "execution_count": 34,
   "metadata": {
    "collapsed": false
   },
   "outputs": [
    {
     "name": "stdout",
     "output_type": "stream",
     "text": [
      "Pred        0       1\n",
      "Actual               \n",
      "0       56865   65698\n",
      "1       46463  330974\n",
      "Accuracy on test dataset: % 0.775678\n",
      "Accuracy: 0.78 (+/- 0.00)\n",
      "AUC: % 0.670432066026\n",
      "Average M1 Retention for Aug Excel users: % 75.48740000000001\n"
     ]
    }
   ],
   "source": [
    "# OK, try the Word M1 model on Consumers, specifically Excel\n",
    "\n",
    "#DerivativeRetentionExcelM1_Consumer500000_2016-08-28.csv\n",
    "\n",
    "fileName = \"DerivativeRetentionExcelM1_Consumer500000_2016-08-28.csv\"\n",
    "filePath = os.path.join(pathName, fileName)\n",
    "\n",
    "# load the DF\n",
    "derivDFExcelConsumerM1 = pd.read_csv(filePath)\n",
    "\n",
    "# predict based on model and show results\n",
    "preds = clfTTWordM1.predict(derivDFExcelConsumerM1[predictors])\n",
    "print(pd.crosstab(derivDFExcelConsumerM1[\"RetainedExcel\"], preds, rownames=[\"Actual\"], colnames=[\"Pred\"]))\n",
    "\n",
    "# score it\n",
    "score = clfTTWordM1.score(derivDFExcelConsumerM1[predictors], derivDFExcelConsumerM1[\"RetainedExcel\"])\n",
    "print(\"Accuracy on test dataset: %\",score)\n",
    "print(\"Accuracy: %0.2f (+/- %0.2f)\" % (score.mean(), score.std() * 2))\n",
    "\n",
    "print(\"AUC: %\", roc_auc_score(derivDFExcelConsumerM1.RetainedExcel, clfTTWordM1.predict(derivDFExcelConsumerM1[predictors])))\n",
    "\n",
    "print(\"Average M1 Retention for Aug Excel users: %\", derivDFExcelConsumerM1.RetainedExcel.mean()*100)\n"
   ]
  },
  {
   "cell_type": "code",
   "execution_count": 35,
   "metadata": {
    "collapsed": false
   },
   "outputs": [
    {
     "name": "stdout",
     "output_type": "stream",
     "text": [
      "Pred         0       1\n",
      "Actual                \n",
      "0       109885  112825\n",
      "1        61869  215421\n",
      "Accuracy on test dataset: % 0.650612\n",
      "Accuracy: 0.65 (+/- 0.00)\n",
      "AUC: % 0.635139644527\n",
      "Average M1 Retention for Aug PPT users: % 55.458\n"
     ]
    }
   ],
   "source": [
    "# OK, try the Word M1 model on Consumers, specifically PPT\n",
    "\n",
    "#DerivativeRetentionPPTM1_Consumer500000_2016-08-28.csv\n",
    "\n",
    "fileName = \"DerivativeRetentionPPTM1_Consumer500000_2016-08-28.csv\"\n",
    "filePath = os.path.join(pathName, fileName)\n",
    "\n",
    "# load the DF\n",
    "derivDFPPTConsumerM1 = pd.read_csv(filePath)\n",
    "\n",
    "# predict based on model and show results\n",
    "preds = clfTTWordM1.predict(derivDFPPTConsumerM1[predictors])\n",
    "print(pd.crosstab(derivDFPPTConsumerM1[\"RetainedPpt\"], preds, rownames=[\"Actual\"], colnames=[\"Pred\"]))\n",
    "\n",
    "# score it\n",
    "score = clfTTWordM1.score(derivDFPPTConsumerM1[predictors], derivDFPPTConsumerM1[\"RetainedPpt\"])\n",
    "print(\"Accuracy on test dataset: %\",score)\n",
    "print(\"Accuracy: %0.2f (+/- %0.2f)\" % (score.mean(), score.std() * 2))\n",
    "\n",
    "print(\"AUC: %\", roc_auc_score(derivDFPPTConsumerM1.RetainedPpt, clfTTWordM1.predict(derivDFPPTConsumerM1[predictors])))\n",
    "\n",
    "print(\"Average M1 Retention for Aug PPT users: %\", derivDFPPTConsumerM1.RetainedPpt.mean()*100)"
   ]
  },
  {
   "cell_type": "code",
   "execution_count": 36,
   "metadata": {
    "collapsed": false
   },
   "outputs": [
    {
     "name": "stdout",
     "output_type": "stream",
     "text": [
      "Pred        0       1\n",
      "Actual               \n",
      "0       46445   63378\n",
      "1       52190  337987\n",
      "Accuracy on test dataset: % 0.768864\n",
      "Accuracy: 0.77 (+/- 0.00)\n",
      "AUC: % 0.644573981664\n",
      "Average M1 Retention for Aug Word users: % 78.0354\n"
     ]
    }
   ],
   "source": [
    "# OK, try the Word M1 model on Consumers, specifically Word\n",
    "\n",
    "fileName = \"DerivativeRetentionWordM1_Consumer500000_2016-08-28.csv\"\n",
    "filePath = os.path.join(pathName, fileName)\n",
    "\n",
    "# load the DF\n",
    "derivDFWordConsumerM1 = pd.read_csv(filePath)\n",
    "\n",
    "# predict based on model and show results\n",
    "preds = clfTTWordM1.predict(derivDFWordConsumerM1[predictors])\n",
    "print(pd.crosstab(derivDFWordConsumerM1[\"RetainedWord\"], preds, rownames=[\"Actual\"], colnames=[\"Pred\"]))\n",
    "\n",
    "# score it\n",
    "score = clfTTWordM1.score(derivDFWordConsumerM1[predictors], derivDFWordConsumerM1[\"RetainedWord\"])\n",
    "print(\"Accuracy on test dataset: %\",score)\n",
    "print(\"Accuracy: %0.2f (+/- %0.2f)\" % (score.mean(), score.std() * 2))\n",
    "\n",
    "print(\"AUC: %\", roc_auc_score(derivDFWordConsumerM1.RetainedWord, clfTTWordM1.predict(derivDFWordConsumerM1[predictors])))\n",
    "\n",
    "print(\"Average M1 Retention for Aug Word users: %\", derivDFWordConsumerM1.RetainedWord.mean()*100)"
   ]
  },
  {
   "cell_type": "code",
   "execution_count": 37,
   "metadata": {
    "collapsed": false
   },
   "outputs": [
    {
     "name": "stdout",
     "output_type": "stream",
     "text": [
      "Pred        0       1\n",
      "Actual               \n",
      "0       34741   53875\n",
      "1       32563  378821\n",
      "Accuracy on test dataset: % 0.827124\n",
      "Accuracy: 0.83 (+/- 0.00)\n",
      "AUC: % 0.656442528285\n",
      "Average M1 Retention for Aug Excel users: % 82.27680000000001\n"
     ]
    }
   ],
   "source": [
    "# OK, try the Word M1 model on Commercial, specifically Excel\n",
    "\n",
    "fileName = \"DerivativeRetentionExcelM1_Commercial500000_2016-08-28.csv\"\n",
    "filePath = os.path.join(pathName, fileName)\n",
    "\n",
    "# load the DF\n",
    "derivDFExcelCommercialM1 = pd.read_csv(filePath)\n",
    "\n",
    "# predict based on model and show results\n",
    "preds = clfTTWordM1.predict(derivDFExcelCommercialM1[predictors])\n",
    "print(pd.crosstab(derivDFExcelCommercialM1[\"RetainedExcel\"], preds, rownames=[\"Actual\"], colnames=[\"Pred\"]))\n",
    "\n",
    "# score it\n",
    "score = clfTTWordM1.score(derivDFExcelCommercialM1[predictors], derivDFExcelCommercialM1[\"RetainedExcel\"])\n",
    "print(\"Accuracy on test dataset: %\",score)\n",
    "print(\"Accuracy: %0.2f (+/- %0.2f)\" % (score.mean(), score.std() * 2))\n",
    "\n",
    "print(\"AUC: %\", roc_auc_score(derivDFExcelCommercialM1.RetainedExcel, clfTTWordM1.predict(derivDFExcelCommercialM1[predictors])))\n",
    "\n",
    "print(\"Average M1 Retention for Aug Excel users: %\", derivDFExcelCommercialM1.RetainedExcel.mean()*100)"
   ]
  },
  {
   "cell_type": "code",
   "execution_count": 38,
   "metadata": {
    "collapsed": false
   },
   "outputs": [
    {
     "name": "stdout",
     "output_type": "stream",
     "text": [
      "Pred        0       1\n",
      "Actual               \n",
      "0       95211  109777\n",
      "1       58474  236538\n",
      "Accuracy on test dataset: % 0.663498\n",
      "Accuracy: 0.66 (+/- 0.00)\n",
      "AUC: % 0.633131102286\n",
      "Average M1 Retention for Aug PPT users: % 59.0024\n"
     ]
    }
   ],
   "source": [
    "# OK, try the Word M1 model all users, specifically PPT\n",
    "\n",
    "fileName = \"DerivativeRetentionPPTM1500000_2016-08-28.csv\"\n",
    "filePath = os.path.join(pathName, fileName)\n",
    "\n",
    "# load the DF\n",
    "derivDFPPTM1 = pd.read_csv(filePath)\n",
    "\n",
    "# predict based on model and show results\n",
    "preds = clfTTWordM1.predict(derivDFPPTM1[predictors])\n",
    "print(pd.crosstab(derivDFPPTM1[\"RetainedPpt\"], preds, rownames=[\"Actual\"], colnames=[\"Pred\"]))\n",
    "\n",
    "# score it\n",
    "score = clfTTWordM1.score(derivDFPPTM1[predictors], derivDFPPTM1[\"RetainedPpt\"])\n",
    "print(\"Accuracy on test dataset: %\",score)\n",
    "print(\"Accuracy: %0.2f (+/- %0.2f)\" % (score.mean(), score.std() * 2))\n",
    "\n",
    "print(\"AUC: %\", roc_auc_score(derivDFPPTM1.RetainedPpt, clfTTWordM1.predict(derivDFPPTM1[predictors])))\n",
    "\n",
    "print(\"Average M1 Retention for Aug PPT users: %\", derivDFPPTM1.RetainedPpt.mean()*100)"
   ]
  },
  {
   "cell_type": "code",
   "execution_count": 83,
   "metadata": {
    "collapsed": false
   },
   "outputs": [
    {
     "data": {
      "text/plain": [
       "0"
      ]
     },
     "execution_count": 83,
     "metadata": {},
     "output_type": "execute_result"
    }
   ],
   "source": [
    "# gather all the CSVs for the below runs\n",
    "# can call powershell directly from python!\n",
    "# only need to run this once\n",
    "# should add a check to see if the files exist and then not run this cell\n",
    "\n",
    "# word commercial\n",
    "#subprocess.call([\"C:\\\\WINDOWS\\\\system32\\\\WindowsPowerShell\\\\v1.0\\\\powershell.exe\", \n",
    "#                 \"Export-CosmosStreamToCSV 'https://cosmos14.osdinfra.net/cosmos/ACE.proc/users/tedscott/DerivativeRetentionWordM1_Commercial500000_2016-08-28.ss' 'E:\\python-stuff\\data\\DerivativeRetentionWordM1_Commercial500000_2016-08-28.csv'\"])\n",
    "\n",
    "# ppt commercial\n",
    "#subprocess.call([\"C:\\\\WINDOWS\\\\system32\\\\WindowsPowerShell\\\\v1.0\\\\powershell.exe\", \n",
    "#                 \"Export-CosmosStreamToCSV 'https://cosmos14.osdinfra.net/cosmos/ACE.proc/users/tedscott/DerivativeRetentionPPTM1_Commercial500000_2016-08-28.ss' 'E:\\python-stuff\\data\\DerivativeRetentionPPTM1_Commercial500000_2016-08-28.csv'\"])\n",
    "\n",
    "# Excel EDU\n",
    "#subprocess.call([\"C:\\\\WINDOWS\\\\system32\\\\WindowsPowerShell\\\\v1.0\\\\powershell.exe\", \n",
    "#                 \"Export-CosmosStreamToCSV 'https://cosmos14.osdinfra.net/cosmos/ACE.proc/users/tedscott/DerivativeRetentionExcelM1_Edu500000_2016-08-28.ss' 'E:\\python-stuff\\data\\DerivativeRetentionExcelM1_Edu500000_2016-08-28.csv'\"])\n",
    "\n",
    "# Word EDU\n",
    "#subprocess.call([\"C:\\\\WINDOWS\\\\system32\\\\WindowsPowerShell\\\\v1.0\\\\powershell.exe\", \n",
    "#                 \"Export-CosmosStreamToCSV 'https://cosmos14.osdinfra.net/cosmos/ACE.proc/users/tedscott/DerivativeRetentionWordM1_Edu500000_2016-08-28.ss' 'E:\\python-stuff\\data\\DerivativeRetentionWordM1_Edu500000_2016-08-28.csv'\"])\n",
    "\n",
    "# PPT EDU\n",
    "#subprocess.call([\"C:\\\\WINDOWS\\\\system32\\\\WindowsPowerShell\\\\v1.0\\\\powershell.exe\", \n",
    "#                 \"Export-CosmosStreamToCSV 'https://cosmos14.osdinfra.net/cosmos/ACE.proc/users/tedscott/DerivativeRetentionPPTM1_Edu500000_2016-08-28.ss' 'E:\\python-stuff\\data\\DerivativeRetentionPPTM1_Edu500000_2016-08-28.csv'\"])\n"
   ]
  },
  {
   "cell_type": "code",
   "execution_count": 51,
   "metadata": {
    "collapsed": false
   },
   "outputs": [
    {
     "name": "stdout",
     "output_type": "stream",
     "text": [
      "Pred        0       1\n",
      "Actual               \n",
      "0       27376   47754\n",
      "1       37837  387033\n",
      "Accuracy on test dataset: % 0.828818\n",
      "Accuracy: 0.83 (+/- 0.00)\n",
      "AUC: % 0.637663131264\n",
      "Average M1 Retention for Aug Word Commercial users: % 84.974\n"
     ]
    }
   ],
   "source": [
    "# Word M1 Commercial\n",
    "fileName =  \"DerivativeRetentionWordM1_Commercial500000_2016-08-28.csv\"\n",
    "filePath = os.path.join(pathName, fileName)\n",
    "\n",
    "# load the DF\n",
    "derivDFWordM1Commercial = pd.read_csv(filePath)\n",
    "\n",
    "# predict based on model and show results\n",
    "preds = clfTTWordM1.predict(derivDFWordM1Commercial[predictors])\n",
    "print(pd.crosstab(derivDFWordM1Commercial[\"RetainedWord\"], preds, rownames=[\"Actual\"], colnames=[\"Pred\"]))\n",
    "\n",
    "# score it\n",
    "score = clfTTWordM1.score(derivDFWordM1Commercial[predictors], derivDFWordM1Commercial[\"RetainedWord\"])\n",
    "print(\"Accuracy on test dataset: %\",score)\n",
    "print(\"Accuracy: %0.2f (+/- %0.2f)\" % (score.mean(), score.std() * 2))\n",
    "\n",
    "print(\"AUC: %\", roc_auc_score(derivDFWordM1Commercial.RetainedWord, clfTTWordM1.predict(derivDFWordM1Commercial[predictors])))\n",
    "\n",
    "print(\"Average M1 Retention for Aug Word Commercial users: %\", derivDFWordM1Commercial.RetainedWord.mean()*100)\n"
   ]
  },
  {
   "cell_type": "code",
   "execution_count": 52,
   "metadata": {
    "collapsed": false
   },
   "outputs": [
    {
     "name": "stdout",
     "output_type": "stream",
     "text": [
      "Pred        0       1\n",
      "Actual               \n",
      "0       69541   88993\n",
      "1       58080  283386\n",
      "Accuracy on test dataset: % 0.705854\n",
      "Accuracy: 0.71 (+/- 0.00)\n",
      "AUC: % 0.634280121699\n",
      "Average M1 Retention for Aug PPT Commercial users: % 68.2932\n"
     ]
    }
   ],
   "source": [
    "# PPT M1 Commercial\n",
    "fileName =  \"DerivativeRetentionPPTM1_Commercial500000_2016-08-28.csv\"\n",
    "filePath = os.path.join(pathName, fileName)\n",
    "\n",
    "# load the DF\n",
    "derivDFPPTM1Commercial = pd.read_csv(filePath)\n",
    "\n",
    "# predict based on model and show results\n",
    "preds = clfTTWordM1.predict(derivDFPPTM1Commercial[predictors])\n",
    "print(pd.crosstab(derivDFPPTM1Commercial[\"RetainedPpt\"], preds, rownames=[\"Actual\"], colnames=[\"Pred\"]))\n",
    "\n",
    "# score it\n",
    "score = clfTTWordM1.score(derivDFPPTM1Commercial[predictors], derivDFPPTM1Commercial[\"RetainedPpt\"])\n",
    "print(\"Accuracy on test dataset: %\",score)\n",
    "print(\"Accuracy: %0.2f (+/- %0.2f)\" % (score.mean(), score.std() * 2))\n",
    "\n",
    "print(\"AUC: %\", roc_auc_score(derivDFPPTM1Commercial.RetainedPpt, clfTTWordM1.predict(derivDFPPTM1Commercial[predictors])))\n",
    "\n",
    "print(\"Average M1 Retention for Aug PPT Commercial users: %\", derivDFPPTM1Commercial.RetainedPpt.mean()*100)"
   ]
  },
  {
   "cell_type": "code",
   "execution_count": 49,
   "metadata": {
    "collapsed": false
   },
   "outputs": [
    {
     "name": "stdout",
     "output_type": "stream",
     "text": [
      "Pred        0       1\n",
      "Actual               \n",
      "0       62586   80184\n",
      "1       58225  291205\n",
      "Accuracy on test dataset: % 0.718795205201\n",
      "Accuracy: 0.72 (+/- 0.00)\n",
      "AUC: % 0.635870448025\n",
      "Average M1 Retention for Aug Excel Edu users: % 70.9934985778139\n"
     ]
    }
   ],
   "source": [
    "# Excel M1 EDU\n",
    "fileName = \"DerivativeRetentionExcelM1_Edu500000_2016-08-28.csv\"\n",
    "filePath = os.path.join(pathName, fileName)\n",
    "\n",
    "# load the DF\n",
    "derivDFExcelM1Edu = pd.read_csv(filePath)\n",
    "\n",
    "# predict based on model and show results\n",
    "preds = clfTTWordM1.predict(derivDFExcelM1Edu[predictors])\n",
    "print(pd.crosstab(derivDFExcelM1Edu[\"RetainedExcel\"], preds, rownames=[\"Actual\"], colnames=[\"Pred\"]))\n",
    "\n",
    "# score it\n",
    "score = clfTTWordM1.score(derivDFExcelM1Edu[predictors], derivDFExcelM1Edu[\"RetainedExcel\"])\n",
    "print(\"Accuracy on test dataset: %\",score)\n",
    "print(\"Accuracy: %0.2f (+/- %0.2f)\" % (score.mean(), score.std() * 2))\n",
    "\n",
    "print(\"AUC: %\", roc_auc_score(derivDFExcelM1Edu.RetainedExcel, clfTTWordM1.predict(derivDFExcelM1Edu[predictors])))\n",
    "\n",
    "print(\"Average M1 Retention for Aug Excel Edu users: %\", derivDFExcelM1Edu.RetainedExcel.mean()*100)\n"
   ]
  },
  {
   "cell_type": "code",
   "execution_count": 48,
   "metadata": {
    "collapsed": false
   },
   "outputs": [
    {
     "name": "stdout",
     "output_type": "stream",
     "text": [
      "Pred        0       1\n",
      "Actual               \n",
      "0       29109   50743\n",
      "1       51816  368332\n",
      "Accuracy on test dataset: % 0.794882\n",
      "Accuracy: 0.79 (+/- 0.00)\n",
      "AUC: % 0.620604461554\n",
      "Average M1 Retention for Aug Word Edu users: % 84.0296\n"
     ]
    }
   ],
   "source": [
    "# Word M1 EDU\n",
    "fileName = \"DerivativeRetentionWordM1_Edu500000_2016-08-28.csv\"\n",
    "filePath = os.path.join(pathName, fileName)\n",
    "\n",
    "# load the DF\n",
    "derivDFWordM1Edu = pd.read_csv(filePath)\n",
    "\n",
    "# predict based on model and show results\n",
    "preds = clfTTWordM1.predict(derivDFWordM1Edu[predictors])\n",
    "print(pd.crosstab(derivDFWordM1Edu[\"RetainedWord\"], preds, rownames=[\"Actual\"], colnames=[\"Pred\"]))\n",
    "\n",
    "# score it\n",
    "score = clfTTWordM1.score(derivDFWordM1Edu[predictors], derivDFWordM1Edu[\"RetainedWord\"])\n",
    "print(\"Accuracy on test dataset: %\",score)\n",
    "print(\"Accuracy: %0.2f (+/- %0.2f)\" % (score.mean(), score.std() * 2))\n",
    "\n",
    "print(\"AUC: %\", roc_auc_score(derivDFWordM1Edu.RetainedWord, clfTTWordM1.predict(derivDFWordM1Edu[predictors])))\n",
    "\n",
    "print(\"Average M1 Retention for Aug Word Edu users: %\", derivDFWordM1Edu.RetainedWord.mean()*100)"
   ]
  },
  {
   "cell_type": "code",
   "execution_count": 47,
   "metadata": {
    "collapsed": false
   },
   "outputs": [
    {
     "name": "stdout",
     "output_type": "stream",
     "text": [
      "Pred        0       1\n",
      "Actual               \n",
      "0       50043   62556\n",
      "1       38036  145596\n",
      "Accuracy on test dataset: % 0.660427166637\n",
      "Accuracy: 0.66 (+/- 0.00)\n",
      "AUC: % 0.618651954379\n",
      "Average M1 Retention for Aug PPT Edu users: % 61.98946092745189\n"
     ]
    }
   ],
   "source": [
    "# PPT M1 EDU\n",
    "fileName = \"DerivativeRetentionPPTM1_Edu500000_2016-08-28.csv\"\n",
    "filePath = os.path.join(pathName, fileName)\n",
    "\n",
    "# load the DF\n",
    "derivDFPPTM1Edu = pd.read_csv(filePath)\n",
    "\n",
    "# predict based on model and show results\n",
    "preds = clfTTWordM1.predict(derivDFPPTM1Edu[predictors])\n",
    "print(pd.crosstab(derivDFPPTM1Edu[\"RetainedPpt\"], preds, rownames=[\"Actual\"], colnames=[\"Pred\"]))\n",
    "\n",
    "# score it\n",
    "score = clfTTWordM1.score(derivDFPPTM1Edu[predictors], derivDFPPTM1Edu[\"RetainedPpt\"])\n",
    "print(\"Accuracy on test dataset: %\",score)\n",
    "print(\"Accuracy: %0.2f (+/- %0.2f)\" % (score.mean(), score.std() * 2))\n",
    "\n",
    "print(\"AUC: %\", roc_auc_score(derivDFPPTM1Edu.RetainedPpt, clfTTWordM1.predict(derivDFPPTM1Edu[predictors])))\n",
    "\n",
    "print(\"Average M1 Retention for Aug PPT Edu users: %\", derivDFPPTM1Edu.RetainedPpt.mean()*100)"
   ]
  },
  {
   "cell_type": "code",
   "execution_count": 45,
   "metadata": {
    "collapsed": false
   },
   "outputs": [
    {
     "data": {
      "text/plain": [
       "<matplotlib.figure.Figure at 0x26115823898>"
      ]
     },
     "metadata": {},
     "output_type": "display_data"
    },
    {
     "data": {
      "image/png": "[encoded data removed]",
      "text/plain": [
       "<matplotlib.figure.Figure at 0x2610f2549e8>"
      ]
     },
     "metadata": {},
     "output_type": "display_data"
    }
   ],
   "source": [
    "plt.figure()\n",
    "derivDFPPTM1Edu.boxplot(column='AvgdTotCmds', by='RetainedPpt')\n",
    "plt.show()"
   ]
  },
  {
   "cell_type": "code",
   "execution_count": null,
   "metadata": {
    "collapsed": true
   },
   "outputs": [],
   "source": []
  },
  {
   "cell_type": "code",
   "execution_count": 91,
   "metadata": {
    "collapsed": false
   },
   "outputs": [
    {
     "data": {
      "text/plain": [
       "0"
      ]
     },
     "execution_count": 91,
     "metadata": {},
     "output_type": "execute_result"
    }
   ],
   "source": [
    "\n",
    "#\n",
    "\n",
    "subprocess.call([\"C:\\\\WINDOWS\\\\system32\\\\WindowsPowerShell\\\\v1.0\\\\powershell.exe\", \n",
    "                 \"Export-CosmosStreamToCSV 'https://cosmos14.osdinfra.net/cosmos/ACE.proc/users/tedscott/DerivativeRetentionWordM1500000_2016-08-28.ss' 'E:\\python-stuff\\data\\DerivativeRetentionWordM1_500000_2016-08-28.csv'\"])"
   ]
  }
 ],
 "metadata": {
  "anaconda-cloud": {},
  "kernelspec": {
   "display_name": "Python [default]",
   "language": "python",
   "name": "python3"
  },
  "language_info": {
   "codemirror_mode": {
    "name": "ipython",
    "version": 3
   },
   "file_extension": ".py",
   "mimetype": "text/x-python",
   "name": "python",
   "nbconvert_exporter": "python",
   "pygments_lexer": "ipython3",
   "version": "3.5.2"
  }
 },
 "nbformat": 4,
 "nbformat_minor": 1
}
