{
 "cells": [
  {
   "cell_type": "code",
   "execution_count": null,
   "metadata": {
    "collapsed": true
   },
   "outputs": [],
   "source": [
    "# sieve of Eratosthenes\n",
    "\n",
    "# wikipedia algo https://en.wikipedia.org/wiki/Sieve_of_Eratosthenes#Algorithm_and_variants\n",
    "#Input: an integer n > 1\n",
    "# \n",
    "#Let A be an array of Boolean values, indexed by integers 2 to n,\n",
    "#initially all set to true.\n",
    "# \n",
    "#for i = 2, 3, 4, ..., not exceeding √n:\n",
    "#  if A[i] is true:\n",
    "#    for j = i^2, i^2+i, i^2+2i, i^2+3i, ..., not exceeding n :\n",
    "#      A[j] := false\n",
    "# \n",
    "#Output: all i such that A[i] is true.\n"
   ]
  },
  {
   "cell_type": "code",
   "execution_count": 1,
   "metadata": {
    "collapsed": true
   },
   "outputs": [],
   "source": [
    "# imports\n",
    "import matplotlib\n",
    "import pandas as pd\n",
    "import os.path\n",
    "import numpy as np\n",
    "import time\n",
    "import subprocess\n",
    "import math\n",
    "import random\n",
    "import scipy\n",
    "from scipy import stats\n",
    "import matplotlib.pyplot as plt\n",
    "\n",
    "%matplotlib inline"
   ]
  },
  {
   "cell_type": "code",
   "execution_count": 111,
   "metadata": {
    "collapsed": false
   },
   "outputs": [],
   "source": [
    "def Sieve(maxN):\n",
    "    # seed initial list of 1's (trues)\n",
    "    initialList = np.ones(maxN+1)\n",
    "    \n",
    "    # create index that starts at 2 and goes up to maxN, taking into account that python arrays start at 0\n",
    "    index = [a + 2 for a in range(maxN - 1)]\n",
    "    \n",
    "    # start timing\n",
    "    start = time.time()\n",
    "    \n",
    "    # loop through the list starting with index 2\n",
    "    for i in range(2, maxN-1): #index:\n",
    "        if initialList[i] == 1:\n",
    "            # create inner loop indexes\n",
    "            index2 = [pow(i,2)+b*i for b in range(maxN-1)]\n",
    "            \n",
    "            # truncate it to be no larger than maxN + 1 since array starts at 0\n",
    "            index3 = [x for x in index2 if x < maxN+1]\n",
    "            for j in index3:\n",
    "                initialList[j] = 0\n",
    "    \n",
    "    # print out the final results, starting with 2 since 0 and 1 are not primes, just artifacts left over\n",
    "    #for k in [x for x in range(initialList.size) if x >= 2]:\n",
    "    #    if initialList[k]==1:\n",
    "    #        print(k)\n",
    "        \n",
    "    last = False\n",
    "    i = initialList.size - 1 # since arrays start at 0\n",
    "    while last==False:\n",
    "        if initialList[i]==1:\n",
    "            print(\"the largest prime was\", i)\n",
    "            print(\"it is the \",np.round(np.sum(initialList) - 2, 0), \" th prime number\") # -2 to account for 0 & 1 in array\n",
    "            last = True # we found it\n",
    "        i -= 1\n",
    "        \n",
    "    print(\"Sieving time: % sec\", time.time() - start)"
   ]
  },
  {
   "cell_type": "code",
   "execution_count": 113,
   "metadata": {
    "collapsed": false
   },
   "outputs": [
    {
     "name": "stdout",
     "output_type": "stream",
     "text": [
      "the largest prime was 9973\n",
      "it is the  1229.0  th prime number\n",
      "Sieving time: % sec 5.884712219238281\n"
     ]
    }
   ],
   "source": [
    "Sieve(10000)"
   ]
  },
  {
   "cell_type": "code",
   "execution_count": 114,
   "metadata": {
    "collapsed": false
   },
   "outputs": [
    {
     "name": "stdout",
     "output_type": "stream",
     "text": [
      "the largest prime was 99991\n",
      "it is the  9592.0  th prime number\n",
      "Sieving time: % sec 471.4784896373749\n"
     ]
    }
   ],
   "source": [
    "Sieve(100000)"
   ]
  },
  {
   "cell_type": "code",
   "execution_count": null,
   "metadata": {
    "collapsed": true
   },
   "outputs": [],
   "source": [
    "# should make it return a list so we can also just select the largest one\n",
    "# and also add timing to see how long it takes\n"
   ]
  }
 ],
 "metadata": {
  "anaconda-cloud": {},
  "kernelspec": {
   "display_name": "Python [default]",
   "language": "python",
   "name": "python3"
  },
  "language_info": {
   "codemirror_mode": {
    "name": "ipython",
    "version": 3
   },
   "file_extension": ".py",
   "mimetype": "text/x-python",
   "name": "python",
   "nbconvert_exporter": "python",
   "pygments_lexer": "ipython3",
   "version": "3.5.2"
  }
 },
 "nbformat": 4,
 "nbformat_minor": 1
}
